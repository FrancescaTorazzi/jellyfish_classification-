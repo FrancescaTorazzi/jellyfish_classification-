{
  "cells": [
    {
      "cell_type": "markdown",
      "metadata": {
        "id": "view-in-github",
        "colab_type": "text"
      },
      "source": [
        "<a href=\"https://colab.research.google.com/github/FrancescaTorazzi/jellyfish_classification-/blob/main/individui_(3).ipynb\" target=\"_parent\"><img src=\"https://colab.research.google.com/assets/colab-badge.svg\" alt=\"Open In Colab\"/></a>"
      ]
    },
    {
      "cell_type": "code",
      "execution_count": null,
      "metadata": {
        "colab": {
          "base_uri": "https://localhost:8080/",
          "height": 1000
        },
        "id": "sScFurALIe2u",
        "outputId": "d4ad62d5-464b-406c-f41a-39032e956fe9"
      },
      "outputs": [
        {
          "name": "stdout",
          "output_type": "stream",
          "text": [
            "Collecting d2l\n",
            "  Downloading d2l-1.0.3-py3-none-any.whl.metadata (556 bytes)\n",
            "Collecting jupyter==1.0.0 (from d2l)\n",
            "  Downloading jupyter-1.0.0-py2.py3-none-any.whl.metadata (995 bytes)\n",
            "Collecting numpy==1.23.5 (from d2l)\n",
            "  Downloading numpy-1.23.5-cp311-cp311-manylinux_2_17_x86_64.manylinux2014_x86_64.whl.metadata (2.3 kB)\n",
            "Collecting matplotlib==3.7.2 (from d2l)\n",
            "  Downloading matplotlib-3.7.2-cp311-cp311-manylinux_2_17_x86_64.manylinux2014_x86_64.whl.metadata (5.6 kB)\n",
            "Collecting matplotlib-inline==0.1.6 (from d2l)\n",
            "  Downloading matplotlib_inline-0.1.6-py3-none-any.whl.metadata (2.8 kB)\n",
            "Collecting requests==2.31.0 (from d2l)\n",
            "  Downloading requests-2.31.0-py3-none-any.whl.metadata (4.6 kB)\n",
            "Collecting pandas==2.0.3 (from d2l)\n",
            "  Downloading pandas-2.0.3-cp311-cp311-manylinux_2_17_x86_64.manylinux2014_x86_64.whl.metadata (18 kB)\n",
            "Collecting scipy==1.10.1 (from d2l)\n",
            "  Downloading scipy-1.10.1-cp311-cp311-manylinux_2_17_x86_64.manylinux2014_x86_64.whl.metadata (58 kB)\n",
            "\u001b[2K     \u001b[90m━━━━━━━━━━━━━━━━━━━━━━━━━━━━━━━━━━━━━━━━\u001b[0m \u001b[32m58.9/58.9 kB\u001b[0m \u001b[31m960.5 kB/s\u001b[0m eta \u001b[36m0:00:00\u001b[0m\n",
            "\u001b[?25hRequirement already satisfied: notebook in /usr/local/lib/python3.11/dist-packages (from jupyter==1.0.0->d2l) (6.5.5)\n",
            "Collecting qtconsole (from jupyter==1.0.0->d2l)\n",
            "  Downloading qtconsole-5.6.1-py3-none-any.whl.metadata (5.0 kB)\n",
            "Requirement already satisfied: jupyter-console in /usr/local/lib/python3.11/dist-packages (from jupyter==1.0.0->d2l) (6.1.0)\n",
            "Requirement already satisfied: nbconvert in /usr/local/lib/python3.11/dist-packages (from jupyter==1.0.0->d2l) (7.16.6)\n",
            "Requirement already satisfied: ipykernel in /usr/local/lib/python3.11/dist-packages (from jupyter==1.0.0->d2l) (6.17.1)\n",
            "Requirement already satisfied: ipywidgets in /usr/local/lib/python3.11/dist-packages (from jupyter==1.0.0->d2l) (7.7.1)\n",
            "Requirement already satisfied: contourpy>=1.0.1 in /usr/local/lib/python3.11/dist-packages (from matplotlib==3.7.2->d2l) (1.3.1)\n",
            "Requirement already satisfied: cycler>=0.10 in /usr/local/lib/python3.11/dist-packages (from matplotlib==3.7.2->d2l) (0.12.1)\n",
            "Requirement already satisfied: fonttools>=4.22.0 in /usr/local/lib/python3.11/dist-packages (from matplotlib==3.7.2->d2l) (4.56.0)\n",
            "Requirement already satisfied: kiwisolver>=1.0.1 in /usr/local/lib/python3.11/dist-packages (from matplotlib==3.7.2->d2l) (1.4.8)\n",
            "Requirement already satisfied: packaging>=20.0 in /usr/local/lib/python3.11/dist-packages (from matplotlib==3.7.2->d2l) (24.2)\n",
            "Requirement already satisfied: pillow>=6.2.0 in /usr/local/lib/python3.11/dist-packages (from matplotlib==3.7.2->d2l) (11.1.0)\n",
            "Collecting pyparsing<3.1,>=2.3.1 (from matplotlib==3.7.2->d2l)\n",
            "  Downloading pyparsing-3.0.9-py3-none-any.whl.metadata (4.2 kB)\n",
            "Requirement already satisfied: python-dateutil>=2.7 in /usr/local/lib/python3.11/dist-packages (from matplotlib==3.7.2->d2l) (2.8.2)\n",
            "Requirement already satisfied: traitlets in /usr/local/lib/python3.11/dist-packages (from matplotlib-inline==0.1.6->d2l) (5.7.1)\n",
            "Requirement already satisfied: pytz>=2020.1 in /usr/local/lib/python3.11/dist-packages (from pandas==2.0.3->d2l) (2025.1)\n",
            "Requirement already satisfied: tzdata>=2022.1 in /usr/local/lib/python3.11/dist-packages (from pandas==2.0.3->d2l) (2025.1)\n",
            "Requirement already satisfied: charset-normalizer<4,>=2 in /usr/local/lib/python3.11/dist-packages (from requests==2.31.0->d2l) (3.4.1)\n",
            "Requirement already satisfied: idna<4,>=2.5 in /usr/local/lib/python3.11/dist-packages (from requests==2.31.0->d2l) (3.10)\n",
            "Requirement already satisfied: urllib3<3,>=1.21.1 in /usr/local/lib/python3.11/dist-packages (from requests==2.31.0->d2l) (2.3.0)\n",
            "Requirement already satisfied: certifi>=2017.4.17 in /usr/local/lib/python3.11/dist-packages (from requests==2.31.0->d2l) (2025.1.31)\n",
            "Requirement already satisfied: six>=1.5 in /usr/local/lib/python3.11/dist-packages (from python-dateutil>=2.7->matplotlib==3.7.2->d2l) (1.17.0)\n",
            "Requirement already satisfied: debugpy>=1.0 in /usr/local/lib/python3.11/dist-packages (from ipykernel->jupyter==1.0.0->d2l) (1.8.0)\n",
            "Requirement already satisfied: ipython>=7.23.1 in /usr/local/lib/python3.11/dist-packages (from ipykernel->jupyter==1.0.0->d2l) (7.34.0)\n",
            "Requirement already satisfied: jupyter-client>=6.1.12 in /usr/local/lib/python3.11/dist-packages (from ipykernel->jupyter==1.0.0->d2l) (6.1.12)\n",
            "Requirement already satisfied: nest-asyncio in /usr/local/lib/python3.11/dist-packages (from ipykernel->jupyter==1.0.0->d2l) (1.6.0)\n",
            "Requirement already satisfied: psutil in /usr/local/lib/python3.11/dist-packages (from ipykernel->jupyter==1.0.0->d2l) (5.9.5)\n",
            "Requirement already satisfied: pyzmq>=17 in /usr/local/lib/python3.11/dist-packages (from ipykernel->jupyter==1.0.0->d2l) (24.0.1)\n",
            "Requirement already satisfied: tornado>=6.1 in /usr/local/lib/python3.11/dist-packages (from ipykernel->jupyter==1.0.0->d2l) (6.4.2)\n",
            "Requirement already satisfied: ipython-genutils~=0.2.0 in /usr/local/lib/python3.11/dist-packages (from ipywidgets->jupyter==1.0.0->d2l) (0.2.0)\n",
            "Requirement already satisfied: widgetsnbextension~=3.6.0 in /usr/local/lib/python3.11/dist-packages (from ipywidgets->jupyter==1.0.0->d2l) (3.6.10)\n",
            "Requirement already satisfied: jupyterlab-widgets>=1.0.0 in /usr/local/lib/python3.11/dist-packages (from ipywidgets->jupyter==1.0.0->d2l) (3.0.13)\n",
            "Requirement already satisfied: prompt-toolkit!=3.0.0,!=3.0.1,<3.1.0,>=2.0.0 in /usr/local/lib/python3.11/dist-packages (from jupyter-console->jupyter==1.0.0->d2l) (3.0.50)\n",
            "Requirement already satisfied: pygments in /usr/local/lib/python3.11/dist-packages (from jupyter-console->jupyter==1.0.0->d2l) (2.18.0)\n",
            "Requirement already satisfied: beautifulsoup4 in /usr/local/lib/python3.11/dist-packages (from nbconvert->jupyter==1.0.0->d2l) (4.13.3)\n",
            "Requirement already satisfied: bleach!=5.0.0 in /usr/local/lib/python3.11/dist-packages (from bleach[css]!=5.0.0->nbconvert->jupyter==1.0.0->d2l) (6.2.0)\n",
            "Requirement already satisfied: defusedxml in /usr/local/lib/python3.11/dist-packages (from nbconvert->jupyter==1.0.0->d2l) (0.7.1)\n",
            "Requirement already satisfied: jinja2>=3.0 in /usr/local/lib/python3.11/dist-packages (from nbconvert->jupyter==1.0.0->d2l) (3.1.6)\n",
            "Requirement already satisfied: jupyter-core>=4.7 in /usr/local/lib/python3.11/dist-packages (from nbconvert->jupyter==1.0.0->d2l) (5.7.2)\n",
            "Requirement already satisfied: jupyterlab-pygments in /usr/local/lib/python3.11/dist-packages (from nbconvert->jupyter==1.0.0->d2l) (0.3.0)\n",
            "Requirement already satisfied: markupsafe>=2.0 in /usr/local/lib/python3.11/dist-packages (from nbconvert->jupyter==1.0.0->d2l) (3.0.2)\n",
            "Requirement already satisfied: mistune<4,>=2.0.3 in /usr/local/lib/python3.11/dist-packages (from nbconvert->jupyter==1.0.0->d2l) (3.1.2)\n",
            "Requirement already satisfied: nbclient>=0.5.0 in /usr/local/lib/python3.11/dist-packages (from nbconvert->jupyter==1.0.0->d2l) (0.10.2)\n",
            "Requirement already satisfied: nbformat>=5.7 in /usr/local/lib/python3.11/dist-packages (from nbconvert->jupyter==1.0.0->d2l) (5.10.4)\n",
            "Requirement already satisfied: pandocfilters>=1.4.1 in /usr/local/lib/python3.11/dist-packages (from nbconvert->jupyter==1.0.0->d2l) (1.5.1)\n",
            "Requirement already satisfied: argon2-cffi in /usr/local/lib/python3.11/dist-packages (from notebook->jupyter==1.0.0->d2l) (23.1.0)\n",
            "Requirement already satisfied: Send2Trash>=1.8.0 in /usr/local/lib/python3.11/dist-packages (from notebook->jupyter==1.0.0->d2l) (1.8.3)\n",
            "Requirement already satisfied: terminado>=0.8.3 in /usr/local/lib/python3.11/dist-packages (from notebook->jupyter==1.0.0->d2l) (0.18.1)\n",
            "Requirement already satisfied: prometheus-client in /usr/local/lib/python3.11/dist-packages (from notebook->jupyter==1.0.0->d2l) (0.21.1)\n",
            "Requirement already satisfied: nbclassic>=0.4.7 in /usr/local/lib/python3.11/dist-packages (from notebook->jupyter==1.0.0->d2l) (1.2.0)\n",
            "Collecting qtpy>=2.4.0 (from qtconsole->jupyter==1.0.0->d2l)\n",
            "  Downloading QtPy-2.4.3-py3-none-any.whl.metadata (12 kB)\n",
            "Requirement already satisfied: webencodings in /usr/local/lib/python3.11/dist-packages (from bleach!=5.0.0->bleach[css]!=5.0.0->nbconvert->jupyter==1.0.0->d2l) (0.5.1)\n",
            "Requirement already satisfied: tinycss2<1.5,>=1.1.0 in /usr/local/lib/python3.11/dist-packages (from bleach[css]!=5.0.0->nbconvert->jupyter==1.0.0->d2l) (1.4.0)\n",
            "Requirement already satisfied: setuptools>=18.5 in /usr/local/lib/python3.11/dist-packages (from ipython>=7.23.1->ipykernel->jupyter==1.0.0->d2l) (75.1.0)\n",
            "Collecting jedi>=0.16 (from ipython>=7.23.1->ipykernel->jupyter==1.0.0->d2l)\n",
            "  Downloading jedi-0.19.2-py2.py3-none-any.whl.metadata (22 kB)\n",
            "Requirement already satisfied: decorator in /usr/local/lib/python3.11/dist-packages (from ipython>=7.23.1->ipykernel->jupyter==1.0.0->d2l) (4.4.2)\n",
            "Requirement already satisfied: pickleshare in /usr/local/lib/python3.11/dist-packages (from ipython>=7.23.1->ipykernel->jupyter==1.0.0->d2l) (0.7.5)\n",
            "Requirement already satisfied: backcall in /usr/local/lib/python3.11/dist-packages (from ipython>=7.23.1->ipykernel->jupyter==1.0.0->d2l) (0.2.0)\n",
            "Requirement already satisfied: pexpect>4.3 in /usr/local/lib/python3.11/dist-packages (from ipython>=7.23.1->ipykernel->jupyter==1.0.0->d2l) (4.9.0)\n",
            "Requirement already satisfied: platformdirs>=2.5 in /usr/local/lib/python3.11/dist-packages (from jupyter-core>=4.7->nbconvert->jupyter==1.0.0->d2l) (4.3.6)\n",
            "Requirement already satisfied: notebook-shim>=0.2.3 in /usr/local/lib/python3.11/dist-packages (from nbclassic>=0.4.7->notebook->jupyter==1.0.0->d2l) (0.2.4)\n",
            "Requirement already satisfied: fastjsonschema>=2.15 in /usr/local/lib/python3.11/dist-packages (from nbformat>=5.7->nbconvert->jupyter==1.0.0->d2l) (2.21.1)\n",
            "Requirement already satisfied: jsonschema>=2.6 in /usr/local/lib/python3.11/dist-packages (from nbformat>=5.7->nbconvert->jupyter==1.0.0->d2l) (4.23.0)\n",
            "Requirement already satisfied: wcwidth in /usr/local/lib/python3.11/dist-packages (from prompt-toolkit!=3.0.0,!=3.0.1,<3.1.0,>=2.0.0->jupyter-console->jupyter==1.0.0->d2l) (0.2.13)\n",
            "Requirement already satisfied: ptyprocess in /usr/local/lib/python3.11/dist-packages (from terminado>=0.8.3->notebook->jupyter==1.0.0->d2l) (0.7.0)\n",
            "Requirement already satisfied: argon2-cffi-bindings in /usr/local/lib/python3.11/dist-packages (from argon2-cffi->notebook->jupyter==1.0.0->d2l) (21.2.0)\n",
            "Requirement already satisfied: soupsieve>1.2 in /usr/local/lib/python3.11/dist-packages (from beautifulsoup4->nbconvert->jupyter==1.0.0->d2l) (2.6)\n",
            "Requirement already satisfied: typing-extensions>=4.0.0 in /usr/local/lib/python3.11/dist-packages (from beautifulsoup4->nbconvert->jupyter==1.0.0->d2l) (4.12.2)\n",
            "Requirement already satisfied: parso<0.9.0,>=0.8.4 in /usr/local/lib/python3.11/dist-packages (from jedi>=0.16->ipython>=7.23.1->ipykernel->jupyter==1.0.0->d2l) (0.8.4)\n",
            "Requirement already satisfied: attrs>=22.2.0 in /usr/local/lib/python3.11/dist-packages (from jsonschema>=2.6->nbformat>=5.7->nbconvert->jupyter==1.0.0->d2l) (25.1.0)\n",
            "Requirement already satisfied: jsonschema-specifications>=2023.03.6 in /usr/local/lib/python3.11/dist-packages (from jsonschema>=2.6->nbformat>=5.7->nbconvert->jupyter==1.0.0->d2l) (2024.10.1)\n",
            "Requirement already satisfied: referencing>=0.28.4 in /usr/local/lib/python3.11/dist-packages (from jsonschema>=2.6->nbformat>=5.7->nbconvert->jupyter==1.0.0->d2l) (0.36.2)\n",
            "Requirement already satisfied: rpds-py>=0.7.1 in /usr/local/lib/python3.11/dist-packages (from jsonschema>=2.6->nbformat>=5.7->nbconvert->jupyter==1.0.0->d2l) (0.23.1)\n",
            "Requirement already satisfied: jupyter-server<3,>=1.8 in /usr/local/lib/python3.11/dist-packages (from notebook-shim>=0.2.3->nbclassic>=0.4.7->notebook->jupyter==1.0.0->d2l) (1.24.0)\n",
            "Requirement already satisfied: cffi>=1.0.1 in /usr/local/lib/python3.11/dist-packages (from argon2-cffi-bindings->argon2-cffi->notebook->jupyter==1.0.0->d2l) (1.17.1)\n",
            "Requirement already satisfied: pycparser in /usr/local/lib/python3.11/dist-packages (from cffi>=1.0.1->argon2-cffi-bindings->argon2-cffi->notebook->jupyter==1.0.0->d2l) (2.22)\n",
            "Requirement already satisfied: anyio<4,>=3.1.0 in /usr/local/lib/python3.11/dist-packages (from jupyter-server<3,>=1.8->notebook-shim>=0.2.3->nbclassic>=0.4.7->notebook->jupyter==1.0.0->d2l) (3.7.1)\n",
            "Requirement already satisfied: websocket-client in /usr/local/lib/python3.11/dist-packages (from jupyter-server<3,>=1.8->notebook-shim>=0.2.3->nbclassic>=0.4.7->notebook->jupyter==1.0.0->d2l) (1.8.0)\n",
            "Requirement already satisfied: sniffio>=1.1 in /usr/local/lib/python3.11/dist-packages (from anyio<4,>=3.1.0->jupyter-server<3,>=1.8->notebook-shim>=0.2.3->nbclassic>=0.4.7->notebook->jupyter==1.0.0->d2l) (1.3.1)\n",
            "Downloading d2l-1.0.3-py3-none-any.whl (111 kB)\n",
            "\u001b[2K   \u001b[90m━━━━━━━━━━━━━━━━━━━━━━━━━━━━━━━━━━━━━━━━\u001b[0m \u001b[32m111.7/111.7 kB\u001b[0m \u001b[31m2.2 MB/s\u001b[0m eta \u001b[36m0:00:00\u001b[0m\n",
            "\u001b[?25hDownloading jupyter-1.0.0-py2.py3-none-any.whl (2.7 kB)\n",
            "Downloading matplotlib-3.7.2-cp311-cp311-manylinux_2_17_x86_64.manylinux2014_x86_64.whl (11.6 MB)\n",
            "\u001b[2K   \u001b[90m━━━━━━━━━━━━━━━━━━━━━━━━━━━━━━━━━━━━━━━━\u001b[0m \u001b[32m11.6/11.6 MB\u001b[0m \u001b[31m16.9 MB/s\u001b[0m eta \u001b[36m0:00:00\u001b[0m\n",
            "\u001b[?25hDownloading matplotlib_inline-0.1.6-py3-none-any.whl (9.4 kB)\n",
            "Downloading numpy-1.23.5-cp311-cp311-manylinux_2_17_x86_64.manylinux2014_x86_64.whl (17.1 MB)\n",
            "\u001b[2K   \u001b[90m━━━━━━━━━━━━━━━━━━━━━━━━━━━━━━━━━━━━━━━━\u001b[0m \u001b[32m17.1/17.1 MB\u001b[0m \u001b[31m19.4 MB/s\u001b[0m eta \u001b[36m0:00:00\u001b[0m\n",
            "\u001b[?25hDownloading pandas-2.0.3-cp311-cp311-manylinux_2_17_x86_64.manylinux2014_x86_64.whl (12.2 MB)\n",
            "\u001b[2K   \u001b[90m━━━━━━━━━━━━━━━━━━━━━━━━━━━━━━━━━━━━━━━━\u001b[0m \u001b[32m12.2/12.2 MB\u001b[0m \u001b[31m23.5 MB/s\u001b[0m eta \u001b[36m0:00:00\u001b[0m\n",
            "\u001b[?25hDownloading requests-2.31.0-py3-none-any.whl (62 kB)\n",
            "\u001b[2K   \u001b[90m━━━━━━━━━━━━━━━━━━━━━━━━━━━━━━━━━━━━━━━━\u001b[0m \u001b[32m62.6/62.6 kB\u001b[0m \u001b[31m1.1 MB/s\u001b[0m eta \u001b[36m0:00:00\u001b[0m\n",
            "\u001b[?25hDownloading scipy-1.10.1-cp311-cp311-manylinux_2_17_x86_64.manylinux2014_x86_64.whl (34.1 MB)\n",
            "\u001b[2K   \u001b[90m━━━━━━━━━━━━━━━━━━━━━━━━━━━━━━━━━━━━━━━━\u001b[0m \u001b[32m34.1/34.1 MB\u001b[0m \u001b[31m11.4 MB/s\u001b[0m eta \u001b[36m0:00:00\u001b[0m\n",
            "\u001b[?25hDownloading pyparsing-3.0.9-py3-none-any.whl (98 kB)\n",
            "\u001b[2K   \u001b[90m━━━━━━━━━━━━━━━━━━━━━━━━━━━━━━━━━━━━━━━━\u001b[0m \u001b[32m98.3/98.3 kB\u001b[0m \u001b[31m5.3 MB/s\u001b[0m eta \u001b[36m0:00:00\u001b[0m\n",
            "\u001b[?25hDownloading qtconsole-5.6.1-py3-none-any.whl (125 kB)\n",
            "\u001b[2K   \u001b[90m━━━━━━━━━━━━━━━━━━━━━━━━━━━━━━━━━━━━━━━━\u001b[0m \u001b[32m125.0/125.0 kB\u001b[0m \u001b[31m7.7 MB/s\u001b[0m eta \u001b[36m0:00:00\u001b[0m\n",
            "\u001b[?25hDownloading QtPy-2.4.3-py3-none-any.whl (95 kB)\n",
            "\u001b[2K   \u001b[90m━━━━━━━━━━━━━━━━━━━━━━━━━━━━━━━━━━━━━━━━\u001b[0m \u001b[32m95.0/95.0 kB\u001b[0m \u001b[31m6.3 MB/s\u001b[0m eta \u001b[36m0:00:00\u001b[0m\n",
            "\u001b[?25hDownloading jedi-0.19.2-py2.py3-none-any.whl (1.6 MB)\n",
            "\u001b[2K   \u001b[90m━━━━━━━━━━━━━━━━━━━━━━━━━━━━━━━━━━━━━━━━\u001b[0m \u001b[32m1.6/1.6 MB\u001b[0m \u001b[31m19.1 MB/s\u001b[0m eta \u001b[36m0:00:00\u001b[0m\n",
            "\u001b[?25hInstalling collected packages: requests, qtpy, pyparsing, numpy, matplotlib-inline, jedi, scipy, pandas, matplotlib, qtconsole, jupyter, d2l\n",
            "  Attempting uninstall: requests\n",
            "    Found existing installation: requests 2.32.3\n",
            "    Uninstalling requests-2.32.3:\n",
            "      Successfully uninstalled requests-2.32.3\n",
            "  Attempting uninstall: pyparsing\n",
            "    Found existing installation: pyparsing 3.2.1\n",
            "    Uninstalling pyparsing-3.2.1:\n",
            "      Successfully uninstalled pyparsing-3.2.1\n",
            "  Attempting uninstall: numpy\n",
            "    Found existing installation: numpy 1.26.4\n",
            "    Uninstalling numpy-1.26.4:\n",
            "      Successfully uninstalled numpy-1.26.4\n",
            "  Attempting uninstall: matplotlib-inline\n",
            "    Found existing installation: matplotlib-inline 0.1.7\n",
            "    Uninstalling matplotlib-inline-0.1.7:\n",
            "      Successfully uninstalled matplotlib-inline-0.1.7\n",
            "  Attempting uninstall: scipy\n",
            "    Found existing installation: scipy 1.14.1\n",
            "    Uninstalling scipy-1.14.1:\n",
            "      Successfully uninstalled scipy-1.14.1\n",
            "  Attempting uninstall: pandas\n",
            "    Found existing installation: pandas 2.2.2\n",
            "    Uninstalling pandas-2.2.2:\n",
            "      Successfully uninstalled pandas-2.2.2\n",
            "  Attempting uninstall: matplotlib\n",
            "    Found existing installation: matplotlib 3.10.0\n",
            "    Uninstalling matplotlib-3.10.0:\n",
            "      Successfully uninstalled matplotlib-3.10.0\n",
            "\u001b[31mERROR: pip's dependency resolver does not currently take into account all the packages that are installed. This behaviour is the source of the following dependency conflicts.\n",
            "google-colab 1.0.0 requires pandas==2.2.2, but you have pandas 2.0.3 which is incompatible.\n",
            "google-colab 1.0.0 requires requests==2.32.3, but you have requests 2.31.0 which is incompatible.\n",
            "cvxpy 1.6.3 requires scipy>=1.11.0, but you have scipy 1.10.1 which is incompatible.\n",
            "treescope 0.1.9 requires numpy>=1.25.2, but you have numpy 1.23.5 which is incompatible.\n",
            "xarray 2025.1.2 requires numpy>=1.24, but you have numpy 1.23.5 which is incompatible.\n",
            "xarray 2025.1.2 requires pandas>=2.1, but you have pandas 2.0.3 which is incompatible.\n",
            "jaxlib 0.5.1 requires numpy>=1.25, but you have numpy 1.23.5 which is incompatible.\n",
            "jaxlib 0.5.1 requires scipy>=1.11.1, but you have scipy 1.10.1 which is incompatible.\n",
            "pymc 5.20.1 requires numpy>=1.25.0, but you have numpy 1.23.5 which is incompatible.\n",
            "scikit-image 0.25.2 requires numpy>=1.24, but you have numpy 1.23.5 which is incompatible.\n",
            "scikit-image 0.25.2 requires scipy>=1.11.4, but you have scipy 1.10.1 which is incompatible.\n",
            "jax 0.5.2 requires numpy>=1.25, but you have numpy 1.23.5 which is incompatible.\n",
            "jax 0.5.2 requires scipy>=1.11.1, but you have scipy 1.10.1 which is incompatible.\n",
            "chex 0.1.89 requires numpy>=1.24.1, but you have numpy 1.23.5 which is incompatible.\n",
            "bigframes 1.38.0 requires numpy>=1.24.0, but you have numpy 1.23.5 which is incompatible.\n",
            "blosc2 3.2.0 requires numpy>=1.26, but you have numpy 1.23.5 which is incompatible.\n",
            "imbalanced-learn 0.13.0 requires numpy<3,>=1.24.3, but you have numpy 1.23.5 which is incompatible.\n",
            "mizani 0.13.1 requires pandas>=2.2.0, but you have pandas 2.0.3 which is incompatible.\n",
            "tensorflow 2.18.0 requires numpy<2.1.0,>=1.26.0, but you have numpy 1.23.5 which is incompatible.\n",
            "albumentations 2.0.5 requires numpy>=1.24.4, but you have numpy 1.23.5 which is incompatible.\n",
            "albucore 0.0.23 requires numpy>=1.24.4, but you have numpy 1.23.5 which is incompatible.\n",
            "plotnine 0.14.5 requires matplotlib>=3.8.0, but you have matplotlib 3.7.2 which is incompatible.\n",
            "plotnine 0.14.5 requires pandas>=2.2.0, but you have pandas 2.0.3 which is incompatible.\u001b[0m\u001b[31m\n",
            "\u001b[0mSuccessfully installed d2l-1.0.3 jedi-0.19.2 jupyter-1.0.0 matplotlib-3.7.2 matplotlib-inline-0.1.6 numpy-1.23.5 pandas-2.0.3 pyparsing-3.0.9 qtconsole-5.6.1 qtpy-2.4.3 requests-2.31.0 scipy-1.10.1\n"
          ]
        },
        {
          "data": {
            "application/vnd.colab-display-data+json": {
              "id": "e10ae915aeaa4fec9e95b0148b03413b",
              "pip_warning": {
                "packages": [
                  "matplotlib",
                  "matplotlib_inline",
                  "mpl_toolkits",
                  "numpy"
                ]
              }
            }
          },
          "metadata": {},
          "output_type": "display_data"
        }
      ],
      "source": [
        "!pip install d2l"
      ]
    },
    {
      "cell_type": "markdown",
      "metadata": {
        "id": "SWMVXCm1bOtm"
      },
      "source": [
        "This line imports the d2l module from the Dive into Deep Learning (D2L) library, specifically for PyTorch."
      ]
    },
    {
      "cell_type": "code",
      "execution_count": null,
      "metadata": {
        "id": "MvTyfOFxdF3U"
      },
      "outputs": [],
      "source": [
        "from d2l import torch as d2l"
      ]
    },
    {
      "cell_type": "markdown",
      "metadata": {
        "id": "j6rwkh-2bZU2"
      },
      "source": [
        "Accessing the files sored in Google Drive."
      ]
    },
    {
      "cell_type": "code",
      "execution_count": null,
      "metadata": {
        "colab": {
          "base_uri": "https://localhost:8080/"
        },
        "id": "t8uzz4CDddD_",
        "outputId": "604ffce5-dc8b-4ee1-d05c-4c0b9386b20c"
      },
      "outputs": [
        {
          "name": "stdout",
          "output_type": "stream",
          "text": [
            "Drive already mounted at /content/drive; to attempt to forcibly remount, call drive.mount(\"/content/drive\", force_remount=True).\n"
          ]
        }
      ],
      "source": [
        "from google.colab import drive\n",
        "drive.mount('/content/drive')\n"
      ]
    },
    {
      "cell_type": "code",
      "execution_count": null,
      "metadata": {
        "id": "ouOaPxcHfoBT"
      },
      "outputs": [],
      "source": [
        "zip_path = \"/content/drive/MyDrive/Colab Notebooks/Natural_images.zip\""
      ]
    },
    {
      "cell_type": "code",
      "execution_count": null,
      "metadata": {
        "id": "uD_wgzXgf2tC"
      },
      "outputs": [],
      "source": [
        "import os, csv\n",
        "import numpy as np\n",
        "import pandas as pd\n",
        "import matplotlib.pyplot as plt\n",
        "from PIL import Image\n",
        "import shutil\n",
        "import random\n",
        "\n",
        "import torch\n",
        "from torch import nn\n",
        "from torchvision import transforms, datasets\n",
        "from torch.utils.data import random_split, DataLoader\n",
        "from torch.nn import functional as F\n",
        "from tqdm import tqdm\n",
        "import torch.optim as optim\n",
        "\n",
        "from sklearn.metrics import accuracy_score, confusion_matrix, ConfusionMatrixDisplay, classification_report"
      ]
    },
    {
      "cell_type": "markdown",
      "metadata": {
        "id": "BXPDYzuId8bs"
      },
      "source": [
        "This code imports a ZIP file from Google Drive and extracts its contents into the `/content/dataset` directory in the Google Colab environment."
      ]
    },
    {
      "cell_type": "code",
      "execution_count": null,
      "metadata": {
        "colab": {
          "base_uri": "https://localhost:8080/"
        },
        "id": "jeeqtGqkhmaG",
        "outputId": "c7a0b0a2-29fe-41a6-cd20-0a803e39d534"
      },
      "outputs": [
        {
          "name": "stdout",
          "output_type": "stream",
          "text": [
            "File extracted in: /content/dataset\n"
          ]
        }
      ],
      "source": [
        "import zipfile  # Module to work with ZIP archives\n",
        "import os       # Module to interact with the operating system\n",
        "\n",
        "# Define the path to the ZIP file located in Google Drive\n",
        "zip_path = \"/content/drive/MyDrive/Colab Notebooks/Natural_images.zip\"\n",
        "\n",
        "# Define the path where the ZIP file will be extracted\n",
        "extract_path = \"/content/dataset\"\n",
        "\n",
        "# Extracting the ZIP file\n",
        "with zipfile.ZipFile(zip_path, 'r') as zip_ref:\n",
        "    zip_ref.extractall(extract_path)  # Extract all contents to the specified directory\n",
        "\n",
        "print(\"File extracted in:\", extract_path)  # Confirm successful extraction\n"
      ]
    },
    {
      "cell_type": "markdown",
      "metadata": {
        "id": "H2mAcQ7ceHIk"
      },
      "source": [
        "In order to verify that the ZIP file was extracted correctly and to see the structure of the extracted data we printed all the files present in the extraction path."
      ]
    },
    {
      "cell_type": "code",
      "execution_count": null,
      "metadata": {
        "colab": {
          "base_uri": "https://localhost:8080/"
        },
        "id": "NZtpoMfCiT7u",
        "outputId": "23b1059a-0baf-4e88-add1-b1506369800d"
      },
      "outputs": [
        {
          "name": "stdout",
          "output_type": "stream",
          "text": [
            "['natural_images', 'data']\n"
          ]
        }
      ],
      "source": [
        "print(os.listdir(extract_path))"
      ]
    },
    {
      "cell_type": "code",
      "execution_count": null,
      "metadata": {
        "colab": {
          "base_uri": "https://localhost:8080/"
        },
        "id": "SZ457o9iiY6-",
        "outputId": "47245616-f13f-4f42-b3f0-95f2649472cb"
      },
      "outputs": [
        {
          "name": "stdout",
          "output_type": "stream",
          "text": [
            "{'natural_images': 8, 'data': 1}\n"
          ]
        }
      ],
      "source": [
        "#from collections import Counter\n",
        "\n",
        "#Count of how many files are in each folder\n",
        "#data_dirs = [d for d in os.listdir(extract_path) if os.path.isdir(os.path.join(extract_path, d))]\n",
        "#file_counts = {d: len(os.listdir(os.path.join(extract_path, d))) for d in data_dirs}\n",
        "\n",
        "#print(file_counts)"
      ]
    },
    {
      "cell_type": "code",
      "execution_count": null,
      "metadata": {
        "colab": {
          "base_uri": "https://localhost:8080/"
        },
        "id": "t7tUGLtqUNeo",
        "outputId": "90a9a03d-e0a3-4eb4-e571-79e9f8bc63cd"
      },
      "outputs": [
        {
          "name": "stdout",
          "output_type": "stream",
          "text": [
            " Total images: 6899\n"
          ]
        }
      ],
      "source": [
        "import os\n",
        "dataset_path = \"/content/dataset/natural_images\"  # Aggiorna con il percorso corretto\n",
        "\n",
        "num_images = 0\n",
        "for root, _, files in os.walk(dataset_path):\n",
        "    for image_name in files:\n",
        "        if image_name.endswith(('.jpg', '.png', '.jpeg')):\n",
        "            num_images += 1\n",
        "\n",
        "print(f\" Total images: {num_images}\")\n"
      ]
    },
    {
      "cell_type": "markdown",
      "metadata": {
        "id": "6XrkP9kgWs6c"
      },
      "source": [
        "I want to check now how many images I have in each category"
      ]
    },
    {
      "cell_type": "code",
      "execution_count": null,
      "metadata": {
        "colab": {
          "base_uri": "https://localhost:8080/"
        },
        "id": "Xk7p-MBAWsGz",
        "outputId": "48dc93f1-15ca-4c86-ccce-c690bd89150f"
      },
      "outputs": [
        {
          "name": "stdout",
          "output_type": "stream",
          "text": [
            "Number of images per category:\n",
            "  motorbike: 788 images\n",
            "  person: 986 images\n",
            "  airplane: 727 images\n",
            "  flower: 843 images\n",
            "  fruit: 1000 images\n",
            "  car: 968 images\n",
            "  dog: 702 images\n",
            "  cat: 885 images\n"
          ]
        }
      ],
      "source": [
        "# Dictionary to store the number of images per category\n",
        "image_counts = {}\n",
        "\n",
        "# Scan through the folders in the dataset\n",
        "for category in os.listdir(dataset_path):\n",
        "    category_path = os.path.join(dataset_path, category)\n",
        "\n",
        "    if os.path.isdir(category_path):  # Check if it's a directory\n",
        "        # Count only files with image extensions\n",
        "        num_images = sum(1 for file in os.listdir(category_path) if file.endswith(('.jpg', '.png', '.jpeg')))\n",
        "        image_counts[category] = num_images\n",
        "\n",
        "# Print the results\n",
        "print(\"Number of images per category:\")\n",
        "for category, count in image_counts.items():\n",
        "    print(f\"  {category}: {count} images\")"
      ]
    },
    {
      "cell_type": "markdown",
      "metadata": {
        "id": "CUnIGwEAULLv"
      },
      "source": [
        "A bar chart is created to visualize the distribution of images across different categories in the dataset."
      ]
    },
    {
      "cell_type": "code",
      "execution_count": null,
      "metadata": {
        "colab": {
          "base_uri": "https://localhost:8080/",
          "height": 533
        },
        "id": "EvuSUx49T5g5",
        "outputId": "8653f615-4ca1-4141-f6c8-8b59045f3b38"
      },
      "outputs": [
        {
          "data": {
            "image/png": "[encoded data removed]",
            "text/plain": [
              "<Figure size 1000x500 with 1 Axes>"
            ]
          },
          "metadata": {},
          "output_type": "display_data"
        }
      ],
      "source": [
        "import matplotlib.pyplot as plt  # Import Matplotlib for data visualization\n",
        "\n",
        "# Function to plot the distribution of images across categories\n",
        "def plot_image_distribution(image_counts):\n",
        "    plt.figure(figsize=(10, 5))  # Set the figure size for better readability\n",
        "\n",
        "    # Create a bar chart with categories on the x-axis and image counts on the y-axis\n",
        "    plt.bar(image_counts.keys(), image_counts.values(), color='skyblue')\n",
        "\n",
        "    plt.xticks(rotation=45)  # Rotate x-axis labels for better visibility\n",
        "    plt.title(\"Distribution of Classes in the Dataset\")  # Set the title of the plot\n",
        "    plt.xlabel(\"Category\")  # Label for the x-axis\n",
        "    plt.ylabel(\"Number of Images\")  # Label for the y-axis\n",
        "    plt.show()  # Display the plot\n",
        "\n",
        "# Generate the bar chart using the image count data\n",
        "plot_image_distribution(image_counts)\n",
        "\n"
      ]
    },
    {
      "cell_type": "markdown",
      "metadata": {
        "id": "tUv1-KJIiP9a"
      },
      "source": [
        "This code generates a pie chart to visualize the distribution of images across different categories in a dataset."
      ]
    },
    {
      "cell_type": "code",
      "execution_count": null,
      "metadata": {
        "colab": {
          "base_uri": "https://localhost:8080/",
          "height": 675
        },
        "id": "rA2tvmEBXNsF",
        "outputId": "89f4c367-4d7f-444b-e97a-8e4f48e7981d"
      },
      "outputs": [
        {
          "data": {
            "image/png": "[encoded data removed]",
            "text/plain": [
              "<Figure size 800x800 with 1 Axes>"
            ]
          },
          "metadata": {},
          "output_type": "display_data"
        }
      ],
      "source": [
        "import matplotlib.pyplot as plt\n",
        "\n",
        "# Dictionary with the number of images per class (replace with your actual data)\n",
        "image_counts = {\n",
        "    'flowers': 800,\n",
        "    'motorbike': 750,\n",
        "    'fruit': 900,\n",
        "    'cat': 1000,\n",
        "    'person': 850,\n",
        "    'dog': 950,\n",
        "    'car': 700,\n",
        "    'airplane': 800\n",
        "}\n",
        "\n",
        "def plot_image_distribution_pie(image_counts):\n",
        "    \"\"\"\n",
        "    Function to generate a pie chart showing the distribution of images per class.\n",
        "    \"\"\"\n",
        "    plt.figure(figsize=(8, 8))  # Set the figure size\n",
        "    plt.pie(\n",
        "        image_counts.values(),  # Image counts\n",
        "        labels=image_counts.keys(),  # Class labels\n",
        "        autopct='%1.1f%%',  # Display percentage with one decimal\n",
        "        colors=plt.cm.Paired.colors  # Use a predefined color palette\n",
        "    )\n",
        "    plt.title(\"Class Distribution in the Dataset\")  # Set the title\n",
        "    plt.show()  # Display the chart\n",
        "\n",
        "# Generate the pie chart\n",
        "plot_image_distribution_pie(image_counts)\n"
      ]
    },
    {
      "cell_type": "markdown",
      "metadata": {
        "id": "MGRmn2SYjJ40"
      },
      "source": [
        "From the pie chart, it is evident that the dataset is **generally balanced**, with a relatively even distribution of images across the different categories. Although there are slight variations in the percentage of images per category, no single class significantly dominates the dataset. This balanced distribution is important for ensuring fair and unbiased model training."
      ]
    },
    {
      "cell_type": "markdown",
      "metadata": {
        "id": "9dIh1UDeUQoU"
      },
      "source": [
        "### Two sample images from each category\n",
        "This code generates a visual overview of the dataset by displaying two sample images from each category. It helps to quickly understand the types of images present and the overall structure of the dataset."
      ]
    },
    {
      "cell_type": "code",
      "execution_count": null,
      "metadata": {
        "id": "yJ2Mo4pgUCOa"
      },
      "outputs": [],
      "source": [
        "import matplotlib.pyplot as plt\n",
        "from PIL import Image\n",
        "import os\n",
        "\n",
        "def show_sample_images(dataset_path):\n",
        "    sample_images = {}  # Dictionary to store two sample images per class\n",
        "\n",
        "    for class_name in os.scandir(dataset_path):\n",
        "        if class_name.is_dir():  # Check if it's a directory (class folder)\n",
        "            images = list(os.scandir(class_name.path))  # Get all images in the folder\n",
        "            if len(images) >= 2:  # Ensure there are at least two images\n",
        "                sample_images[class_name.name] = [images[0].path, images[1].path]\n",
        "\n",
        "    num_classes = len(sample_images)\n",
        "    fig, axes = plt.subplots(num_classes, 2, figsize=(10, 5 * num_classes))  # Create subplots for each class\n",
        "\n",
        "    for (class_name, img_paths), ax_row in zip(sample_images.items(), axes):\n",
        "        for img_path, ax in zip(img_paths, ax_row):\n",
        "            with Image.open(img_path) as img:\n",
        "                ax.imshow(img)  # Display the image\n",
        "                ax.set_title(class_name)  # Set the title as the class name\n",
        "                ax.axis(\"off\")  # Remove axis labels\n",
        "\n",
        "    plt.tight_layout()\n",
        "    plt.show()\n",
        "\n",
        "# Display sample images\n",
        "show_sample_images(dataset_path)"
      ]
    },
    {
      "cell_type": "markdown",
      "metadata": {
        "id": "kwUDtR6QUTjJ"
      },
      "source": [
        "### Dimensions and aspect ratios of images"
      ]
    },
    {
      "cell_type": "code",
      "execution_count": null,
      "metadata": {
        "colab": {
          "base_uri": "https://localhost:8080/",
          "height": 577
        },
        "id": "NhAaMDVeYVxs",
        "outputId": "c93982d0-938a-482a-e0c7-f726f71d5ce4"
      },
      "outputs": [
        {
          "data": {
            "image/png": "[encoded data removed]",
            "text/plain": [
              "<Figure size 1500x600 with 2 Axes>"
            ]
          },
          "metadata": {},
          "output_type": "display_data"
        }
      ],
      "source": [
        "import os\n",
        "import numpy as np\n",
        "import matplotlib.pyplot as plt\n",
        "from PIL import Image\n",
        "\n",
        "# Define dataset path\n",
        "dataset_path = \"/content/dataset/natural_images\"\n",
        "\n",
        "# Extract image dimensions\n",
        "image_sizes = []\n",
        "\n",
        "for root, _, files in os.walk(dataset_path):  # Traverse folders and subfolders of dataset_path\n",
        "    for image_name in files:\n",
        "        if image_name.lower().endswith(('.jpg', '.jpeg', '.png')):  # Consider multiple image formats\n",
        "            image_path = os.path.join(root, image_name)  # Full path to the image\n",
        "            try:\n",
        "                with Image.open(image_path) as img:\n",
        "                    image_sizes.append(img.size)  # (width, height)\n",
        "            except:\n",
        "                continue  # Skip unreadable images\n",
        "\n",
        "# Ensure there are images before proceeding\n",
        "if len(image_sizes) > 0:\n",
        "    # Analyze widths, heights, and aspect ratios\n",
        "    widths = [size[0] for size in image_sizes]\n",
        "    heights = [size[1] for size in image_sizes]\n",
        "    aspect_ratios = [w / h for w, h in zip(widths, heights)]\n",
        "\n",
        "    # Distribution of dimensions (width, height)\n",
        "    width_counts, width_bins = np.histogram(widths, bins=30)\n",
        "    height_counts, height_bins = np.histogram(heights, bins=30)\n",
        "    width_percent = (width_counts / len(widths)) * 100\n",
        "    height_percent = (height_counts / len(heights)) * 100\n",
        "\n",
        "    # Distribution of aspect ratios\n",
        "    aspect_counts, aspect_bins = np.histogram(aspect_ratios, bins=30)\n",
        "    aspect_percent = (aspect_counts / len(aspect_ratios)) * 100\n",
        "\n",
        "    # Plot distributions\n",
        "    plt.figure(figsize=(15, 6))\n",
        "\n",
        "    # Plot 1: Distribution of dimensions\n",
        "    plt.subplot(1, 2, 1)\n",
        "    plt.bar(width_bins[:-1], width_percent, width=np.diff(width_bins)[0], alpha=0.7, label='Widths', align='edge', color='skyblue')\n",
        "    plt.bar(height_bins[:-1], height_percent, width=np.diff(height_bins)[0], alpha=0.7, label='Heights', align='edge', color='lightcoral')\n",
        "    plt.title('Distribution of Image Sizes')\n",
        "    plt.xlabel('Size (px)')\n",
        "    plt.ylabel('Percentage')\n",
        "    plt.legend()\n",
        "\n",
        "    # Plot 2: Distribution of aspect ratios\n",
        "    plt.subplot(1, 2, 2)\n",
        "    plt.bar(aspect_bins[:-1], aspect_percent, width=np.diff(aspect_bins)[0], alpha=0.7, color='orange')\n",
        "    plt.title('Distribution of Aspect Ratios')\n",
        "    plt.xlabel('Aspect Ratio (Width/Height)')\n",
        "    plt.ylabel('Percentage')\n",
        "\n",
        "    plt.tight_layout()\n",
        "    plt.show()\n",
        "else:\n",
        "    print(\"No images found in the dataset. Please check the dataset path and file formats.\")\n"
      ]
    },
    {
      "cell_type": "markdown",
      "metadata": {
        "id": "gG3tZg_SaEvt"
      },
      "source": [
        "1.   **Left Chart**\n",
        "\n",
        "It represents the distribution of image widths (Widths, in blue) and heights (Heights, in red) within the dataset.\n",
        "The x-axis indicates image dimensions in pixels (either width or height), while the y-axis shows the percentage of images with those dimensions.\n",
        "\n",
        "Observations:\n",
        "\n",
        "\n",
        "*  Most images have a width and height\n",
        "between 0 and 500 px, suggesting that the dataset mainly contains small-sized images.\n",
        "\n",
        "\n",
        "*   There is a sharp decline beyond 500 px, meaning very few images exceed this size.\n",
        "\n",
        "\n",
        "*   The distributions of widths and heights appear similar, which could indicate that many images are either square or follow a common aspect ratio.\n",
        "\n",
        "\n",
        "2.   **Right Chart**\n",
        "\n",
        "The x-axis represents the width/height ratio of each image.\n",
        "The y-axis shows the percentage of images with that specific aspect ratio.\n",
        "\n",
        "Observations:\n",
        "\n",
        "*   Most images have an aspect ratio close to 1, meaning they are almost square (width ≈ height).\n",
        "\n",
        "*   Some images have an aspect ratio greater than 1, indicating they are wider than they are tall (landscape orientation).\n",
        "*   Very few images have aspect ratios above 3 or 4, suggesting that the dataset does not contain many stretched images.\n"
      ]
    },
    {
      "cell_type": "markdown",
      "metadata": {
        "id": "Q2dEBZqEbbFg"
      },
      "source": [
        "Check for corrupted images (damaged,incolpete,unreadable).\n"
      ]
    },
    {
      "cell_type": "code",
      "execution_count": null,
      "metadata": {
        "colab": {
          "base_uri": "https://localhost:8080/"
        },
        "id": "NDeXuA177Juf",
        "outputId": "7f69b9f9-dabb-47c1-b1b4-de0254f68455"
      },
      "outputs": [
        {
          "name": "stdout",
          "output_type": "stream",
          "text": [
            "Checking class 'motorbike'\n",
            "Checking class 'person'\n",
            "Checking class 'airplane'\n",
            "Checking class 'flower'\n",
            "Checking class 'fruit'\n",
            "Checking class 'car'\n",
            "Checking class 'dog'\n",
            "Checking class 'cat'\n",
            "\n",
            "Total corrupted files: 0\n"
          ]
        }
      ],
      "source": [
        "from PIL import Image\n",
        "import os\n",
        "\n",
        "original_dataset_path = \"/content/dataset/natural_images\"\n",
        "\n",
        "corrupted_files = []\n",
        "for class_name in os.listdir(original_dataset_path):\n",
        "    class_folder = os.path.join(original_dataset_path, class_name)\n",
        "    if os.path.isdir(class_folder):\n",
        "        print(f\"Checking class '{class_name}'\")\n",
        "        for file in os.listdir(class_folder):\n",
        "            file_path = os.path.join(class_folder, file)\n",
        "            try:\n",
        "                with Image.open(file_path) as img:\n",
        "                    img.verify()  # Check if the image is valid\n",
        "            except Exception as e:\n",
        "                print(f\"❌ Corrupted: {file_path} | Error: {e}\")\n",
        "                corrupted_files.append(file_path)\n",
        "\n",
        "print(f\"\\nTotal corrupted files: {len(corrupted_files)}\")\n"
      ]
    },
    {
      "cell_type": "code",
      "execution_count": null,
      "metadata": {
        "id": "Molw0oki7OCm"
      },
      "outputs": [],
      "source": [
        "for file_path in corrupted_files:\n",
        "    os.remove(file_path)\n",
        "    print(f\"Removed corrupted file: {file_path}\")"
      ]
    },
    {
      "cell_type": "markdown",
      "metadata": {
        "id": "6Y2AHAxlb4g8"
      },
      "source": [
        "To ensure consistency in the dataset and prepare the images for machine learning tasks, this process involves resizing all images to 224x224 pixels"
      ]
    },
    {
      "cell_type": "code",
      "execution_count": null,
      "metadata": {
        "colab": {
          "base_uri": "https://localhost:8080/"
        },
        "id": "sVy86_qO7wvv",
        "outputId": "137317e0-31d0-420e-a1bd-b1015c0f9e37"
      },
      "outputs": [
        {
          "name": "stderr",
          "output_type": "stream",
          "text": []
        }
      ],
      "source": [
        "from PIL import Image\n",
        "import os\n",
        "from tqdm import tqdm\n",
        "\n",
        "original_dataset_path = \"/content/dataset/natural_images\"\n",
        "output_dataset_path = \"/content/dataset/resized_images\"\n",
        "target_size = (224, 224)\n",
        "\n",
        "def resize_images(original_dataset_path, output_dataset_path, target_size):\n",
        "    \"\"\"Resize images from original_dataset_path and save them to output_dataset_path.\"\"\"\n",
        "    if not os.path.exists(output_dataset_path):\n",
        "        os.makedirs(output_dataset_path)\n",
        "\n",
        "    for class_name in os.listdir(original_dataset_path):\n",
        "        class_folder = os.path.join(original_dataset_path, class_name)\n",
        "        output_class_folder = os.path.join(output_dataset_path, class_name)\n",
        "\n",
        "        if os.path.isdir(class_folder):\n",
        "            if not os.path.exists(output_class_folder):\n",
        "                os.makedirs(output_class_folder)\n",
        "\n",
        "            images = os.listdir(class_folder)\n",
        "\n",
        "            for img_name in tqdm(images, desc=f\"Resizing {class_name}\", leave=False):\n",
        "                img_path = os.path.join(class_folder, img_name)\n",
        "                output_img_path = os.path.join(output_class_folder, os.path.splitext(img_name)[0] + \".jpg\")\n",
        "\n",
        "                try:\n",
        "                    with Image.open(img_path) as img:\n",
        "                        img = img.convert(\"RGB\")  # Ensure RGB mode\n",
        "                        img_resized = img.resize(target_size)  # Remove ANTIALIAS\n",
        "                        img_resized.save(output_img_path, \"JPEG\")\n",
        "                except Exception as e:\n",
        "                    print(f\"❌ Skipping corrupted image: {img_path} | Error: {e}\")\n",
        "\n",
        "# Run resizing\n",
        "resize_images(original_dataset_path, output_dataset_path, target_size)\n"
      ]
    },
    {
      "cell_type": "markdown",
      "metadata": {
        "id": "RdgG6oR378rn"
      },
      "source": [
        "###Verification of the Resized Dataset to Ensure:\n",
        "1. The correct number of images is present in each class.\n",
        "2. All images are readable and can be successfully opened.\n",
        "3. Every image has the correct dimensions of 224x224 pixels.\n",
        "\n"
      ]
    },
    {
      "cell_type": "code",
      "execution_count": null,
      "metadata": {
        "colab": {
          "base_uri": "https://localhost:8080/"
        },
        "id": "Q1fzMmWL8HEV",
        "outputId": "9a2caab0-edf4-4382-88d3-a73fb8519aec"
      },
      "outputs": [
        {
          "name": "stdout",
          "output_type": "stream",
          "text": [
            "\n",
            " Checking resized dataset...\n",
            "\n",
            " Class 'motorbike': 788 images\n",
            " Class 'person': 986 images\n",
            " Class 'airplane': 727 images\n",
            " Class 'flower': 843 images\n",
            " Class 'fruit': 1000 images\n",
            " Class 'car': 968 images\n",
            " Class 'dog': 702 images\n",
            " Class 'cat': 885 images\n",
            "\n",
            "Dataset check completed.\n",
            "Total images: 6899\n",
            "Incorrect size images: 0\n",
            "Corrupted images: 0\n"
          ]
        }
      ],
      "source": [
        "import os\n",
        "from PIL import Image\n",
        "\n",
        "output_dataset_path = \"/content/dataset/resized_images\"\n",
        "\n",
        "def check_resized_images(output_path, sample_check=5):\n",
        "    if not os.path.exists(output_path):\n",
        "        print(f\"The folder '{output_path}' does not exist!\")\n",
        "        return\n",
        "\n",
        "    total_images = 0\n",
        "    incorrect_size = 0\n",
        "    corrupted_images = 0\n",
        "\n",
        "    print(\"\\n Checking resized dataset...\\n\")\n",
        "\n",
        "    for class_name in os.listdir(output_path):\n",
        "        class_folder = os.path.join(output_path, class_name)\n",
        "        if not os.path.isdir(class_folder):\n",
        "            continue\n",
        "\n",
        "        images = os.listdir(class_folder)\n",
        "        num_images = len(images)\n",
        "        total_images += num_images\n",
        "\n",
        "        print(f\" Class '{class_name}': {num_images} images\")\n",
        "\n",
        "        # Sample check: Try to open some images\n",
        "        for img_name in images[:sample_check]:\n",
        "            img_path = os.path.join(class_folder, img_name)\n",
        "            try:\n",
        "                with Image.open(img_path) as img:\n",
        "                    # Check if image size is correct\n",
        "                    if img.size != (224, 224):\n",
        "                        incorrect_size += 1\n",
        "                        print(f\" Incorrect size: {img_name} ({img.size}), expected (224, 224)\")\n",
        "            except Exception as e:\n",
        "                corrupted_images += 1\n",
        "                print(f\" Corrupted image: {img_name} | Error: {e}\")\n",
        "\n",
        "    print(\"\\nDataset check completed.\")\n",
        "    print(f\"Total images: {total_images}\")\n",
        "    print(f\"Incorrect size images: {incorrect_size}\")\n",
        "    print(f\"Corrupted images: {corrupted_images}\")\n",
        "\n",
        "# Run the check\n",
        "check_resized_images(output_dataset_path)\n"
      ]
    },
    {
      "cell_type": "markdown",
      "metadata": {
        "id": "BvM8AFFGd0_B"
      },
      "source": [
        "## Random Resampling of the Dataset\n",
        "This code performs random resampling to reduce the number of images in each class to a fixed size (e.g., 300 images per class). This helps in balancing the dataset and ensuring consistency across classes for model training.\n",
        "\n"
      ]
    },
    {
      "cell_type": "code",
      "execution_count": null,
      "metadata": {
        "colab": {
          "base_uri": "https://localhost:8080/"
        },
        "id": "nbsHv1xeymZM",
        "outputId": "4a346de0-9448-426e-caf1-4709054d9722"
      },
      "outputs": [
        {
          "name": "stdout",
          "output_type": "stream",
          "text": [
            "Resampled 300 images for class 'motorbike'.\n",
            "Resampled 300 images for class 'person'.\n",
            "Resampled 300 images for class 'airplane'.\n",
            "Resampled 300 images for class 'flower'.\n",
            "Resampled 300 images for class 'fruit'.\n",
            "Resampled 300 images for class 'car'.\n",
            "Resampled 300 images for class 'dog'.\n",
            "Resampled 300 images for class 'cat'.\n"
          ]
        }
      ],
      "source": [
        "import os\n",
        "import shutil\n",
        "import random\n",
        "\n",
        "def resample_dataset(input_path, output_path, samples_per_class=300):\n",
        "    \"\"\"\n",
        "    Perform random resampling to reduce the number of images per class.\n",
        "    Copies a fixed number of randomly chosen images from each class.\n",
        "    \"\"\"\n",
        "    if not os.path.exists(output_path):\n",
        "        os.makedirs(output_path, exist_ok=True)\n",
        "\n",
        "    for class_name in os.listdir(input_path):\n",
        "        class_folder = os.path.join(input_path, class_name)\n",
        "        output_class_folder = os.path.join(output_path, class_name)\n",
        "\n",
        "        if os.path.isdir(class_folder):\n",
        "            os.makedirs(output_class_folder, exist_ok=True)\n",
        "\n",
        "            # Get all image files in the class folder\n",
        "            images = [img for img in os.listdir(class_folder) if img.lower().endswith(('jpg', 'jpeg', 'png'))]\n",
        "\n",
        "            # Perform random sampling\n",
        "            sampled_images = random.sample(images, min(samples_per_class, len(images)))\n",
        "\n",
        "            # Copy the selected images to the new dataset\n",
        "            for img in sampled_images:\n",
        "                shutil.copy(os.path.join(class_folder, img), os.path.join(output_class_folder, img))\n",
        "\n",
        "            print(f\"Resampled {len(sampled_images)} images for class '{class_name}'.\")\n",
        "\n",
        "# Paths (relative paths to avoid permission issues)\n",
        "input_dataset_path = \"dataset/resized_images\"\n",
        "output_dataset_path = \"dataset/resampled_images\"\n",
        "\n",
        "# Run resampling (e.g., 300 images per class)\n",
        "resample_dataset(input_dataset_path, output_dataset_path, samples_per_class=300)\n"
      ]
    },
    {
      "cell_type": "code",
      "execution_count": null,
      "metadata": {
        "id": "90l5PpO3yva6"
      },
      "outputs": [],
      "source": [
        "dataset_path = \"/content/dataset/resampled_images\"  # Usa il dataset ridotto"
      ]
    },
    {
      "cell_type": "markdown",
      "metadata": {
        "id": "HqpRO_nwpCme"
      },
      "source": [
        "##Training AlexNet with Logging, Saving, and Visualization\n",
        "This code defines a comprehensive pipeline for training an AlexNet model from scratch, ensuring that key results (like accuracy and loss) are logged, visualized, and saved for future reference."
      ]
    },
    {
      "cell_type": "markdown",
      "metadata": {
        "id": "68MQXjg-pbIB"
      },
      "source": [
        "\n",
        "### Key Processes in the Code:\n",
        "\n",
        "1. **Preparation and Directory Setup:**  \n",
        "   - Checks if previous training results and the trained model already exist to avoid redundant training.  \n",
        "   - Ensures the creation of necessary directories to save results.\n",
        "\n",
        "2. **Dataset Preparation:**  \n",
        "   - Loads the dataset using a custom `create_dataloaders` function, likely splitting it into **training, validation, and test sets**.  \n",
        "   - Applies the required transformations to prepare the data for model training.\n",
        "\n",
        "3. **Model Setup:**  \n",
        "   - Initializes an **AlexNet model** without pre-trained weights.  \n",
        "   - Modifies the final classification layer to match the number of dataset classes.  \n",
        "   - Moves the model to the available device (GPU if available, otherwise CPU).\n",
        "\n",
        "4. **Training Configuration:**  \n",
        "   - Utilizes **CrossEntropyLoss** as the loss function.  \n",
        "   - Employs the **Adam optimizer** with a defined learning rate.  \n",
        "   - Initializes an empty dictionary `results` to store epoch-wise metrics (loss and accuracy).\n",
        "\n",
        "5. **Training Loop:**  \n",
        "   - Iterates over the specified number of epochs:  \n",
        "     - Performs forward passes, loss calculation, backpropagation, and parameter updates on the training set.  \n",
        "     - Calculates training loss and accuracy for each epoch.  \n",
        "     - Evaluates the model on the **validation set** to track validation accuracy.  \n",
        "     - Saves epoch results (loss, training accuracy, validation accuracy) into the `results` dictionary.\n",
        "\n",
        "6. **Saving Results:**  \n",
        "   - Saves the training metrics to a **CSV file** for further analysis.  \n",
        "   - Saves the trained model to a **`.pth` file** for future use.\n",
        "\n",
        "7. **Visualization:**  \n",
        "   - Generates a plot that shows:  \n",
        "     - The progression of **training loss** over epochs.  \n",
        "     - The comparison between **training and validation accuracy** across epochs.  \n",
        "\n"
      ]
    },
    {
      "cell_type": "code",
      "execution_count": null,
      "metadata": {
        "colab": {
          "base_uri": "https://localhost:8080/",
          "height": 1000
        },
        "id": "JLz4NY__FhhW",
        "outputId": "cd8df05b-7e1a-47f1-f421-43d7e27ce0af"
      },
      "outputs": [
        {
          "name": "stderr",
          "output_type": "stream",
          "text": [
            "Calculating mean/std: 100%|██████████| 75/75 [00:12<00:00,  6.05it/s]\n",
            "/usr/local/lib/python3.11/dist-packages/torchvision/models/_utils.py:208: UserWarning: The parameter 'pretrained' is deprecated since 0.13 and may be removed in the future, please use 'weights' instead.\n",
            "  warnings.warn(\n",
            "/usr/local/lib/python3.11/dist-packages/torchvision/models/_utils.py:223: UserWarning: Arguments other than a weight enum or `None` for 'weights' are deprecated since 0.13 and may be removed in the future. The current behavior is equivalent to passing `weights=None`.\n",
            "  warnings.warn(msg)\n",
            "Epoch 1/40: 100%|██████████| 53/53 [03:22<00:00,  3.82s/it]\n"
          ]
        },
        {
          "name": "stdout",
          "output_type": "stream",
          "text": [
            "Epoch 1/40 - Loss: 2.1703, Train Acc: 15.18%, Val Acc: 17.92%\n"
          ]
        },
        {
          "name": "stderr",
          "output_type": "stream",
          "text": [
            "Epoch 2/40: 100%|██████████| 53/53 [03:25<00:00,  3.88s/it]\n"
          ]
        },
        {
          "name": "stdout",
          "output_type": "stream",
          "text": [
            "Epoch 2/40 - Loss: 1.8534, Train Acc: 23.04%, Val Acc: 26.46%\n"
          ]
        },
        {
          "name": "stderr",
          "output_type": "stream",
          "text": [
            "Epoch 3/40: 100%|██████████| 53/53 [03:23<00:00,  3.84s/it]\n"
          ]
        },
        {
          "name": "stdout",
          "output_type": "stream",
          "text": [
            "Epoch 3/40 - Loss: 1.6499, Train Acc: 32.32%, Val Acc: 41.25%\n"
          ]
        },
        {
          "name": "stderr",
          "output_type": "stream",
          "text": [
            "Epoch 4/40: 100%|██████████| 53/53 [03:22<00:00,  3.82s/it]\n"
          ]
        },
        {
          "name": "stdout",
          "output_type": "stream",
          "text": [
            "Epoch 4/40 - Loss: 1.5021, Train Acc: 40.24%, Val Acc: 44.17%\n"
          ]
        },
        {
          "name": "stderr",
          "output_type": "stream",
          "text": [
            "Epoch 5/40: 100%|██████████| 53/53 [03:17<00:00,  3.73s/it]\n"
          ]
        },
        {
          "name": "stdout",
          "output_type": "stream",
          "text": [
            "Epoch 5/40 - Loss: 1.4478, Train Acc: 42.56%, Val Acc: 45.83%\n"
          ]
        },
        {
          "name": "stderr",
          "output_type": "stream",
          "text": [
            "Epoch 6/40: 100%|██████████| 53/53 [03:28<00:00,  3.93s/it]\n"
          ]
        },
        {
          "name": "stdout",
          "output_type": "stream",
          "text": [
            "Epoch 6/40 - Loss: 1.3767, Train Acc: 44.82%, Val Acc: 48.33%\n"
          ]
        },
        {
          "name": "stderr",
          "output_type": "stream",
          "text": [
            "Epoch 7/40: 100%|██████████| 53/53 [03:23<00:00,  3.83s/it]\n"
          ]
        },
        {
          "name": "stdout",
          "output_type": "stream",
          "text": [
            "Epoch 7/40 - Loss: 1.2823, Train Acc: 50.42%, Val Acc: 48.33%\n"
          ]
        },
        {
          "name": "stderr",
          "output_type": "stream",
          "text": [
            "Epoch 8/40: 100%|██████████| 53/53 [03:20<00:00,  3.78s/it]\n"
          ]
        },
        {
          "name": "stdout",
          "output_type": "stream",
          "text": [
            "Epoch 8/40 - Loss: 1.3091, Train Acc: 51.07%, Val Acc: 54.58%\n"
          ]
        },
        {
          "name": "stderr",
          "output_type": "stream",
          "text": [
            "Epoch 9/40: 100%|██████████| 53/53 [03:21<00:00,  3.80s/it]\n"
          ]
        },
        {
          "name": "stdout",
          "output_type": "stream",
          "text": [
            "Epoch 9/40 - Loss: 1.2106, Train Acc: 53.15%, Val Acc: 51.25%\n"
          ]
        },
        {
          "name": "stderr",
          "output_type": "stream",
          "text": [
            "Epoch 10/40: 100%|██████████| 53/53 [03:22<00:00,  3.82s/it]\n"
          ]
        },
        {
          "name": "stdout",
          "output_type": "stream",
          "text": [
            "Epoch 10/40 - Loss: 1.1697, Train Acc: 56.25%, Val Acc: 53.54%\n"
          ]
        },
        {
          "name": "stderr",
          "output_type": "stream",
          "text": [
            "Epoch 11/40: 100%|██████████| 53/53 [03:21<00:00,  3.79s/it]\n"
          ]
        },
        {
          "name": "stdout",
          "output_type": "stream",
          "text": [
            "Epoch 11/40 - Loss: 1.1167, Train Acc: 56.55%, Val Acc: 56.25%\n"
          ]
        },
        {
          "name": "stderr",
          "output_type": "stream",
          "text": [
            "Epoch 12/40: 100%|██████████| 53/53 [03:32<00:00,  4.01s/it]\n"
          ]
        },
        {
          "name": "stdout",
          "output_type": "stream",
          "text": [
            "Epoch 12/40 - Loss: 1.1181, Train Acc: 58.87%, Val Acc: 59.58%\n"
          ]
        },
        {
          "name": "stderr",
          "output_type": "stream",
          "text": [
            "Epoch 13/40: 100%|██████████| 53/53 [03:59<00:00,  4.52s/it]\n"
          ]
        },
        {
          "name": "stdout",
          "output_type": "stream",
          "text": [
            "Epoch 13/40 - Loss: 1.0853, Train Acc: 58.93%, Val Acc: 57.92%\n"
          ]
        },
        {
          "name": "stderr",
          "output_type": "stream",
          "text": [
            "Epoch 14/40: 100%|██████████| 53/53 [04:07<00:00,  4.66s/it]\n"
          ]
        },
        {
          "name": "stdout",
          "output_type": "stream",
          "text": [
            "Epoch 14/40 - Loss: 1.0298, Train Acc: 62.02%, Val Acc: 60.00%\n"
          ]
        },
        {
          "name": "stderr",
          "output_type": "stream",
          "text": [
            "Epoch 15/40: 100%|██████████| 53/53 [04:11<00:00,  4.75s/it]\n"
          ]
        },
        {
          "name": "stdout",
          "output_type": "stream",
          "text": [
            "Epoch 15/40 - Loss: 1.0194, Train Acc: 61.31%, Val Acc: 60.21%\n"
          ]
        },
        {
          "name": "stderr",
          "output_type": "stream",
          "text": [
            "Epoch 16/40: 100%|██████████| 53/53 [04:05<00:00,  4.63s/it]\n"
          ]
        },
        {
          "name": "stdout",
          "output_type": "stream",
          "text": [
            "Epoch 16/40 - Loss: 0.9879, Train Acc: 64.05%, Val Acc: 59.17%\n"
          ]
        },
        {
          "name": "stderr",
          "output_type": "stream",
          "text": [
            "Epoch 17/40: 100%|██████████| 53/53 [03:56<00:00,  4.47s/it]\n"
          ]
        },
        {
          "name": "stdout",
          "output_type": "stream",
          "text": [
            "Epoch 17/40 - Loss: 0.9939, Train Acc: 63.15%, Val Acc: 56.88%\n"
          ]
        },
        {
          "name": "stderr",
          "output_type": "stream",
          "text": [
            "Epoch 18/40: 100%|██████████| 53/53 [03:59<00:00,  4.52s/it]\n"
          ]
        },
        {
          "name": "stdout",
          "output_type": "stream",
          "text": [
            "Epoch 18/40 - Loss: 0.8876, Train Acc: 67.38%, Val Acc: 68.33%\n"
          ]
        },
        {
          "name": "stderr",
          "output_type": "stream",
          "text": [
            "Epoch 19/40: 100%|██████████| 53/53 [04:04<00:00,  4.61s/it]\n"
          ]
        },
        {
          "name": "stdout",
          "output_type": "stream",
          "text": [
            "Epoch 19/40 - Loss: 0.9530, Train Acc: 65.83%, Val Acc: 62.71%\n"
          ]
        },
        {
          "name": "stderr",
          "output_type": "stream",
          "text": [
            "Epoch 20/40: 100%|██████████| 53/53 [04:02<00:00,  4.57s/it]\n"
          ]
        },
        {
          "name": "stdout",
          "output_type": "stream",
          "text": [
            "Epoch 20/40 - Loss: 1.0172, Train Acc: 64.64%, Val Acc: 64.79%\n"
          ]
        },
        {
          "name": "stderr",
          "output_type": "stream",
          "text": [
            "Epoch 21/40: 100%|██████████| 53/53 [04:06<00:00,  4.65s/it]\n"
          ]
        },
        {
          "name": "stdout",
          "output_type": "stream",
          "text": [
            "Epoch 21/40 - Loss: 0.9566, Train Acc: 63.93%, Val Acc: 68.75%\n"
          ]
        },
        {
          "name": "stderr",
          "output_type": "stream",
          "text": [
            "Epoch 22/40: 100%|██████████| 53/53 [04:00<00:00,  4.53s/it]\n"
          ]
        },
        {
          "name": "stdout",
          "output_type": "stream",
          "text": [
            "Epoch 22/40 - Loss: 0.8586, Train Acc: 68.27%, Val Acc: 66.25%\n"
          ]
        },
        {
          "name": "stderr",
          "output_type": "stream",
          "text": [
            "Epoch 23/40: 100%|██████████| 53/53 [03:59<00:00,  4.51s/it]\n"
          ]
        },
        {
          "name": "stdout",
          "output_type": "stream",
          "text": [
            "Epoch 23/40 - Loss: 0.8265, Train Acc: 69.11%, Val Acc: 68.33%\n"
          ]
        },
        {
          "name": "stderr",
          "output_type": "stream",
          "text": [
            "Epoch 24/40: 100%|██████████| 53/53 [03:59<00:00,  4.52s/it]\n"
          ]
        },
        {
          "name": "stdout",
          "output_type": "stream",
          "text": [
            "Epoch 24/40 - Loss: 0.7962, Train Acc: 71.37%, Val Acc: 73.12%\n"
          ]
        },
        {
          "name": "stderr",
          "output_type": "stream",
          "text": [
            "Epoch 25/40: 100%|██████████| 53/53 [04:00<00:00,  4.55s/it]\n"
          ]
        },
        {
          "name": "stdout",
          "output_type": "stream",
          "text": [
            "Epoch 25/40 - Loss: 0.7674, Train Acc: 72.44%, Val Acc: 73.75%\n"
          ]
        },
        {
          "name": "stderr",
          "output_type": "stream",
          "text": [
            "Epoch 26/40: 100%|██████████| 53/53 [03:56<00:00,  4.47s/it]\n"
          ]
        },
        {
          "name": "stdout",
          "output_type": "stream",
          "text": [
            "Epoch 26/40 - Loss: 0.8078, Train Acc: 71.67%, Val Acc: 67.50%\n"
          ]
        },
        {
          "name": "stderr",
          "output_type": "stream",
          "text": [
            "Epoch 27/40: 100%|██████████| 53/53 [03:59<00:00,  4.53s/it]\n"
          ]
        },
        {
          "name": "stdout",
          "output_type": "stream",
          "text": [
            "Epoch 27/40 - Loss: 0.7567, Train Acc: 70.60%, Val Acc: 71.04%\n"
          ]
        },
        {
          "name": "stderr",
          "output_type": "stream",
          "text": [
            "Epoch 28/40: 100%|██████████| 53/53 [04:01<00:00,  4.56s/it]\n"
          ]
        },
        {
          "name": "stdout",
          "output_type": "stream",
          "text": [
            "Epoch 28/40 - Loss: 0.7752, Train Acc: 72.44%, Val Acc: 65.83%\n"
          ]
        },
        {
          "name": "stderr",
          "output_type": "stream",
          "text": [
            "Epoch 29/40: 100%|██████████| 53/53 [04:03<00:00,  4.59s/it]\n"
          ]
        },
        {
          "name": "stdout",
          "output_type": "stream",
          "text": [
            "Epoch 29/40 - Loss: 0.7722, Train Acc: 71.85%, Val Acc: 72.71%\n"
          ]
        },
        {
          "name": "stderr",
          "output_type": "stream",
          "text": [
            "Epoch 30/40: 100%|██████████| 53/53 [04:01<00:00,  4.55s/it]\n"
          ]
        },
        {
          "name": "stdout",
          "output_type": "stream",
          "text": [
            "Epoch 30/40 - Loss: 0.7020, Train Acc: 73.27%, Val Acc: 74.38%\n"
          ]
        },
        {
          "name": "stderr",
          "output_type": "stream",
          "text": [
            "Epoch 31/40: 100%|██████████| 53/53 [04:01<00:00,  4.56s/it]\n"
          ]
        },
        {
          "name": "stdout",
          "output_type": "stream",
          "text": [
            "Epoch 31/40 - Loss: 0.7266, Train Acc: 73.21%, Val Acc: 72.71%\n"
          ]
        },
        {
          "name": "stderr",
          "output_type": "stream",
          "text": [
            "Epoch 32/40: 100%|██████████| 53/53 [03:58<00:00,  4.50s/it]\n"
          ]
        },
        {
          "name": "stdout",
          "output_type": "stream",
          "text": [
            "Epoch 32/40 - Loss: 0.6900, Train Acc: 74.94%, Val Acc: 73.54%\n"
          ]
        },
        {
          "name": "stderr",
          "output_type": "stream",
          "text": [
            "Epoch 33/40: 100%|██████████| 53/53 [04:00<00:00,  4.53s/it]\n"
          ]
        },
        {
          "name": "stdout",
          "output_type": "stream",
          "text": [
            "Epoch 33/40 - Loss: 0.6830, Train Acc: 74.58%, Val Acc: 72.92%\n"
          ]
        },
        {
          "name": "stderr",
          "output_type": "stream",
          "text": [
            "Epoch 34/40: 100%|██████████| 53/53 [03:59<00:00,  4.52s/it]\n"
          ]
        },
        {
          "name": "stdout",
          "output_type": "stream",
          "text": [
            "Epoch 34/40 - Loss: 0.7034, Train Acc: 74.58%, Val Acc: 73.12%\n"
          ]
        },
        {
          "name": "stderr",
          "output_type": "stream",
          "text": [
            "Epoch 35/40: 100%|██████████| 53/53 [03:55<00:00,  4.43s/it]\n"
          ]
        },
        {
          "name": "stdout",
          "output_type": "stream",
          "text": [
            "Epoch 35/40 - Loss: 0.6947, Train Acc: 74.64%, Val Acc: 74.79%\n"
          ]
        },
        {
          "name": "stderr",
          "output_type": "stream",
          "text": [
            "Epoch 36/40: 100%|██████████| 53/53 [04:00<00:00,  4.53s/it]\n"
          ]
        },
        {
          "name": "stdout",
          "output_type": "stream",
          "text": [
            "Epoch 36/40 - Loss: 0.6459, Train Acc: 76.79%, Val Acc: 73.75%\n"
          ]
        },
        {
          "name": "stderr",
          "output_type": "stream",
          "text": [
            "Epoch 37/40: 100%|██████████| 53/53 [04:00<00:00,  4.53s/it]\n"
          ]
        },
        {
          "name": "stdout",
          "output_type": "stream",
          "text": [
            "Epoch 37/40 - Loss: 0.6074, Train Acc: 77.86%, Val Acc: 72.29%\n"
          ]
        },
        {
          "name": "stderr",
          "output_type": "stream",
          "text": [
            "Epoch 38/40: 100%|██████████| 53/53 [03:56<00:00,  4.47s/it]\n"
          ]
        },
        {
          "name": "stdout",
          "output_type": "stream",
          "text": [
            "Epoch 38/40 - Loss: 0.6643, Train Acc: 76.90%, Val Acc: 79.17%\n"
          ]
        },
        {
          "name": "stderr",
          "output_type": "stream",
          "text": [
            "Epoch 39/40: 100%|██████████| 53/53 [03:56<00:00,  4.45s/it]\n"
          ]
        },
        {
          "name": "stdout",
          "output_type": "stream",
          "text": [
            "Epoch 39/40 - Loss: 0.6592, Train Acc: 76.07%, Val Acc: 71.67%\n"
          ]
        },
        {
          "name": "stderr",
          "output_type": "stream",
          "text": [
            "Epoch 40/40: 100%|██████████| 53/53 [03:58<00:00,  4.50s/it]\n"
          ]
        },
        {
          "name": "stdout",
          "output_type": "stream",
          "text": [
            "Epoch 40/40 - Loss: 0.6209, Train Acc: 77.80%, Val Acc: 78.33%\n",
            "Results saved to results/training_results.csv\n",
            "Model saved to results/alexnet_trained.pth\n"
          ]
        },
        {
          "data": {
            "image/png": "[encoded data removed]",
            "text/plain": [
              "<Figure size 1200x500 with 2 Axes>"
            ]
          },
          "metadata": {},
          "output_type": "display_data"
        }
      ],
      "source": [
        "import os\n",
        "import pandas as pd\n",
        "import torch\n",
        "import matplotlib.pyplot as plt\n",
        "from torchvision import models\n",
        "from torch.utils.data import DataLoader\n",
        "from torchvision import datasets, transforms\n",
        "from torch import nn, optim\n",
        "from tqdm import tqdm\n",
        "\n",
        "def save_results(filename, results):\n",
        "    \"\"\"Save results (accuracy, loss, etc.) to a CSV file.\"\"\"\n",
        "    df = pd.DataFrame(results)\n",
        "    df.to_csv(filename, index=False)\n",
        "    print(f\"Results saved to {filename}\")\n",
        "\n",
        "def save_model(model, path):\n",
        "    \"\"\"Save trained model to a .pth file.\"\"\"\n",
        "    torch.save(model.state_dict(), path)\n",
        "    print(f\"Model saved to {path}\")\n",
        "\n",
        "def plot_training_results(results):\n",
        "    \"\"\"Plots training loss, training accuracy, and validation accuracy over epochs.\"\"\"\n",
        "    epochs = results[\"epoch\"]\n",
        "\n",
        "    plt.figure(figsize=(12, 5))\n",
        "\n",
        "    # Plot loss\n",
        "    plt.subplot(1, 2, 1)\n",
        "    plt.plot(epochs, results[\"train_loss\"], label=\"Train Loss\", marker='o', linestyle='-')\n",
        "    plt.xlabel(\"Epoch\")\n",
        "    plt.ylabel(\"Loss\")\n",
        "    plt.title(\"Training Loss Over Epochs\")\n",
        "    plt.legend()\n",
        "\n",
        "    # Plot accuracy\n",
        "    plt.subplot(1, 2, 2)\n",
        "    plt.plot(epochs, [acc * 100 for acc in results[\"train_acc\"]], label=\"Train Accuracy\", marker='o', linestyle='-')\n",
        "    plt.plot(epochs, [acc * 100 for acc in results[\"val_acc\"]], label=\"Validation Accuracy\", marker='o', linestyle='--')\n",
        "    plt.xlabel(\"Epoch\")\n",
        "    plt.ylabel(\"Accuracy (%)\")\n",
        "    plt.title(\"Train & Validation Accuracy Over Epochs\")\n",
        "    plt.legend()\n",
        "\n",
        "    plt.tight_layout()\n",
        "    plt.show()\n",
        "\n",
        "def train_alexnet_with_logging_and_graph(dataset_path, batch_size=32, num_epochs=40, learning_rate=0.001, save_path=\"results\"):\n",
        "    \"\"\"Train AlexNet, save results, and generate a training graph.\"\"\"\n",
        "\n",
        "    results_file = os.path.join(save_path, \"training_results.csv\")\n",
        "    model_file = os.path.join(save_path, \"alexnet_trained.pth\")\n",
        "\n",
        "    if os.path.exists(results_file) and os.path.exists(model_file):\n",
        "        print(\"Training results already exist. Loading previous results.\")\n",
        "        return results_file, model_file\n",
        "\n",
        "    os.makedirs(save_path, exist_ok=True)\n",
        "\n",
        "    # Prepare dataset\n",
        "    train_loader, val_loader, test_loader = create_dataloaders(dataset_path, batch_size)\n",
        "    device = torch.device(\"cuda\" if torch.cuda.is_available() else \"cpu\")\n",
        "\n",
        "    # Load AlexNet without pre-trained weights\n",
        "    model = models.alexnet(pretrained=False)\n",
        "    num_classes = len(train_loader.dataset.dataset.classes)\n",
        "    model.classifier[6] = torch.nn.Linear(4096, num_classes)\n",
        "    model = model.to(device)\n",
        "\n",
        "    criterion = torch.nn.CrossEntropyLoss()\n",
        "    optimizer = torch.optim.Adam(model.parameters(), lr=learning_rate)\n",
        "\n",
        "    results = {\"epoch\": [], \"train_loss\": [], \"train_acc\": [], \"val_acc\": []}\n",
        "\n",
        "    for epoch in range(num_epochs):\n",
        "        model.train()\n",
        "        running_loss, correct, total = 0, 0, 0\n",
        "\n",
        "        for inputs, labels in tqdm(train_loader, desc=f\"Epoch {epoch+1}/{num_epochs}\"):\n",
        "            inputs, labels = inputs.to(device), labels.to(device)\n",
        "            optimizer.zero_grad()\n",
        "            outputs = model(inputs)\n",
        "            loss = criterion(outputs, labels)\n",
        "            loss.backward()\n",
        "            optimizer.step()\n",
        "\n",
        "            running_loss += loss.item()\n",
        "            _, preds = torch.max(outputs, 1)\n",
        "            correct += (preds == labels).sum().item()\n",
        "            total += labels.size(0)\n",
        "\n",
        "        train_loss = running_loss / len(train_loader)\n",
        "        train_acc = correct / total\n",
        "\n",
        "        # Validation\n",
        "        model.eval()\n",
        "        val_correct, val_total = 0, 0\n",
        "        with torch.no_grad():\n",
        "            for val_inputs, val_labels in val_loader:\n",
        "                val_inputs, val_labels = val_inputs.to(device), val_labels.to(device)\n",
        "                val_outputs = model(val_inputs)\n",
        "                _, val_preds = torch.max(val_outputs, 1)\n",
        "                val_correct += (val_preds == val_labels).sum().item()\n",
        "                val_total += val_labels.size(0)\n",
        "\n",
        "        val_acc = val_correct / val_total\n",
        "\n",
        "        # Save epoch results\n",
        "        results[\"epoch\"].append(epoch + 1)\n",
        "        results[\"train_loss\"].append(train_loss)\n",
        "        results[\"train_acc\"].append(train_acc)\n",
        "        results[\"val_acc\"].append(val_acc)\n",
        "\n",
        "        print(f\"Epoch {epoch+1}/{num_epochs} - Loss: {train_loss:.4f}, Train Acc: {train_acc*100:.2f}%, Val Acc: {val_acc*100:.2f}%\")\n",
        "\n",
        "    # Save results and model\n",
        "    save_results(results_file, results)\n",
        "    save_model(model, model_file)\n",
        "\n",
        "    # Plot the training results\n",
        "    plot_training_results(results)\n",
        "\n",
        "    return results_file, model_file\n",
        "\n",
        "# Run training with logging and graph\n",
        "dataset_path = \"/content/dataset/resampled_images\"  # Usa il dataset ridotto\n",
        "results_file, model_file = train_alexnet_with_logging_and_graph(dataset_path)\n"
      ]
    },
    {
      "cell_type": "code",
      "execution_count": null,
      "metadata": {
        "colab": {
          "base_uri": "https://localhost:8080/"
        },
        "id": "RDVdGgP5G6ru",
        "outputId": "a8058f47-2933-448f-9b27-7d224bb2f6e2"
      },
      "outputs": [
        {
          "name": "stdout",
          "output_type": "stream",
          "text": [
            "Old training results deleted. Starting new training session...\n"
          ]
        }
      ],
      "source": [
        "import os\n",
        "\n",
        "save_path = \"results\"\n",
        "results_file = os.path.join(save_path, \"training_results.csv\")\n",
        "model_file = os.path.join(save_path, \"alexnet_trained.pth\")\n",
        "\n",
        "# Elimina i vecchi file di training\n",
        "if os.path.exists(results_file):\n",
        "    os.remove(results_file)\n",
        "if os.path.exists(model_file):\n",
        "    os.remove(model_file)\n",
        "\n",
        "print(\"Old training results deleted. Starting new training session...\")\n"
      ]
    },
    {
      "cell_type": "code",
      "execution_count": null,
      "metadata": {
        "id": "cyi2kBbSrV8j"
      },
      "outputs": [],
      "source": [
        "from torchvision import datasets, transforms\n",
        "from torch.utils.data import DataLoader, random_split\n",
        "import torch\n",
        "\n",
        "def create_dataloaders(dataset_path, batch_size, train_perc=0.7, val_perc=0.2, seed=123):\n",
        "    \"\"\"\n",
        "    Creates train, validation, and test DataLoaders from an ImageFolder dataset.\n",
        "    Computes normalization stats automatically.\n",
        "    \"\"\"\n",
        "    transform = transforms.Compose([\n",
        "        transforms.Resize((224, 224)),\n",
        "        transforms.ToTensor(),\n",
        "        transforms.Normalize(mean=[0.485, 0.456, 0.406], std=[0.229, 0.224, 0.225])  # Standard normalization\n",
        "    ])\n",
        "\n",
        "    dataset = datasets.ImageFolder(root=dataset_path, transform=transform)\n",
        "    dataset_size = len(dataset)\n",
        "    train_size = int(train_perc * dataset_size)\n",
        "    val_size = int(val_perc * dataset_size)\n",
        "    test_size = dataset_size - train_size - val_size\n",
        "\n",
        "    torch.manual_seed(seed)\n",
        "    train_dataset, val_dataset, test_dataset = random_split(dataset, [train_size, val_size, test_size])\n",
        "\n",
        "    train_loader = DataLoader(train_dataset, batch_size=batch_size, shuffle=True)\n",
        "    val_loader = DataLoader(val_dataset, batch_size=batch_size, shuffle=False)\n",
        "    test_loader = DataLoader(test_dataset, batch_size=batch_size, shuffle=False)\n",
        "\n",
        "    return train_loader, val_loader, test_loader\n"
      ]
    },
    {
      "cell_type": "markdown",
      "metadata": {
        "id": "Atr5xa46uRLQ"
      },
      "source": [
        "### Early Stopping and Learning Rate\n",
        "\n",
        "To optimize the training process and ensure efficient use of computational resources, this training pipeline incorporates an **Early Stopping mechanism** and carefully chosen hyperparameters, including the **learning rate**. The goal is to enhance model performance while minimizing the risk of overfitting and unnecessary computation.\n",
        "\n",
        "\n",
        "\n",
        "### Key Hyperparameters and Their Justification\n",
        "\n",
        "1. **Early Stopping (Patience = 5):**  \n",
        "   - The patience value is set to **5**, meaning the training will stop if there is **no improvement in validation loss for five consecutive epochs**.  \n",
        "   - This value was chosen to strike a balance—allowing the model enough time to adjust and improve, while avoiding excessive training when no progress is being made.  \n",
        "   - A patience of 5 is generally effective in reducing the risk of overfitting and saving time, especially when improvements in performance are marginal after several epochs.\n",
        "\n",
        "2. **Learning Rate (0.001):**  \n",
        "   - The learning rate determines how much the model's parameters are adjusted during each training step.  \n",
        "   - A value of **0.001** is selected as it provides a **stable and gradual learning process**.  \n",
        "   - This value ensures that the model can make consistent progress toward minimizing loss without making overly large updates that could destabilize learning.  \n",
        "   - Choosing this rate helps in achieving an optimal balance between convergence speed and model stability.\n"
      ]
    },
    {
      "cell_type": "code",
      "execution_count": null,
      "metadata": {
        "colab": {
          "background_save": true,
          "base_uri": "https://localhost:8080/"
        },
        "id": "DUsISs8cqnsR",
        "outputId": "5b73f8c7-ccb1-4f9c-a7ac-50f409ceb676"
      },
      "outputs": [
        {
          "name": "stderr",
          "output_type": "stream",
          "text": [
            "/usr/local/lib/python3.11/dist-packages/torchvision/models/_utils.py:208: UserWarning: The parameter 'pretrained' is deprecated since 0.13 and may be removed in the future, please use 'weights' instead.\n",
            "  warnings.warn(\n",
            "/usr/local/lib/python3.11/dist-packages/torchvision/models/_utils.py:223: UserWarning: Arguments other than a weight enum or `None` for 'weights' are deprecated since 0.13 and may be removed in the future. The current behavior is equivalent to passing `weights=None`.\n",
            "  warnings.warn(msg)\n",
            "Epoch 1/50: 100%|██████████| 53/53 [03:58<00:00,  4.50s/it]\n"
          ]
        },
        {
          "name": "stdout",
          "output_type": "stream",
          "text": [
            "Epoch 1/50 - Loss: 2.0094, Train Acc: 24.29%, Val Loss: 1.5468, Val Acc: 38.12%\n",
            "Model saved to results/alexnet_trained.pth\n"
          ]
        },
        {
          "name": "stderr",
          "output_type": "stream",
          "text": [
            "Epoch 2/50: 100%|██████████| 53/53 [03:35<00:00,  4.06s/it]\n"
          ]
        },
        {
          "name": "stdout",
          "output_type": "stream",
          "text": [
            "Epoch 2/50 - Loss: 1.3307, Train Acc: 45.65%, Val Loss: 1.2149, Val Acc: 53.33%\n",
            "Model saved to results/alexnet_trained.pth\n"
          ]
        },
        {
          "name": "stderr",
          "output_type": "stream",
          "text": [
            "Epoch 3/50: 100%|██████████| 53/53 [03:42<00:00,  4.20s/it]\n"
          ]
        },
        {
          "name": "stdout",
          "output_type": "stream",
          "text": [
            "Epoch 3/50 - Loss: 1.1466, Train Acc: 55.12%, Val Loss: 1.1489, Val Acc: 56.04%\n",
            "Model saved to results/alexnet_trained.pth\n"
          ]
        },
        {
          "name": "stderr",
          "output_type": "stream",
          "text": [
            "Epoch 4/50: 100%|██████████| 53/53 [03:39<00:00,  4.15s/it]\n"
          ]
        },
        {
          "name": "stdout",
          "output_type": "stream",
          "text": [
            "Epoch 4/50 - Loss: 0.8893, Train Acc: 66.37%, Val Loss: 0.7904, Val Acc: 71.46%\n",
            "Model saved to results/alexnet_trained.pth\n"
          ]
        },
        {
          "name": "stderr",
          "output_type": "stream",
          "text": [
            "Epoch 5/50: 100%|██████████| 53/53 [03:35<00:00,  4.07s/it]\n"
          ]
        },
        {
          "name": "stdout",
          "output_type": "stream",
          "text": [
            "Epoch 5/50 - Loss: 0.7008, Train Acc: 74.46%, Val Loss: 0.8263, Val Acc: 71.04%\n",
            "Validation loss did not improve. Patience count: 1/5\n"
          ]
        },
        {
          "name": "stderr",
          "output_type": "stream",
          "text": [
            "Epoch 6/50: 100%|██████████| 53/53 [03:36<00:00,  4.08s/it]\n"
          ]
        },
        {
          "name": "stdout",
          "output_type": "stream",
          "text": [
            "Epoch 6/50 - Loss: 0.6397, Train Acc: 76.01%, Val Loss: 0.7352, Val Acc: 71.67%\n",
            "Model saved to results/alexnet_trained.pth\n"
          ]
        },
        {
          "name": "stderr",
          "output_type": "stream",
          "text": [
            "Epoch 7/50: 100%|██████████| 53/53 [03:35<00:00,  4.06s/it]\n"
          ]
        },
        {
          "name": "stdout",
          "output_type": "stream",
          "text": [
            "Epoch 7/50 - Loss: 0.5823, Train Acc: 78.81%, Val Loss: 0.6589, Val Acc: 76.25%\n",
            "Model saved to results/alexnet_trained.pth\n"
          ]
        },
        {
          "name": "stderr",
          "output_type": "stream",
          "text": [
            "Epoch 8/50: 100%|██████████| 53/53 [03:45<00:00,  4.25s/it]\n"
          ]
        },
        {
          "name": "stdout",
          "output_type": "stream",
          "text": [
            "Epoch 8/50 - Loss: 0.5906, Train Acc: 78.21%, Val Loss: 0.8670, Val Acc: 69.38%\n",
            "Validation loss did not improve. Patience count: 1/5\n"
          ]
        },
        {
          "name": "stderr",
          "output_type": "stream",
          "text": [
            "Epoch 9/50: 100%|██████████| 53/53 [03:35<00:00,  4.07s/it]\n"
          ]
        },
        {
          "name": "stdout",
          "output_type": "stream",
          "text": [
            "Epoch 9/50 - Loss: 0.5552, Train Acc: 80.71%, Val Loss: 0.6263, Val Acc: 76.67%\n",
            "Model saved to results/alexnet_trained.pth\n"
          ]
        },
        {
          "name": "stderr",
          "output_type": "stream",
          "text": [
            "Epoch 10/50: 100%|██████████| 53/53 [03:35<00:00,  4.07s/it]\n"
          ]
        },
        {
          "name": "stdout",
          "output_type": "stream",
          "text": [
            "Epoch 10/50 - Loss: 0.4850, Train Acc: 82.08%, Val Loss: 0.5101, Val Acc: 80.21%\n",
            "Model saved to results/alexnet_trained.pth\n"
          ]
        },
        {
          "name": "stderr",
          "output_type": "stream",
          "text": [
            "Epoch 11/50: 100%|██████████| 53/53 [03:34<00:00,  4.04s/it]\n"
          ]
        },
        {
          "name": "stdout",
          "output_type": "stream",
          "text": [
            "Epoch 11/50 - Loss: 0.4260, Train Acc: 84.40%, Val Loss: 0.5314, Val Acc: 80.21%\n",
            "Validation loss did not improve. Patience count: 1/5\n"
          ]
        },
        {
          "name": "stderr",
          "output_type": "stream",
          "text": [
            "Epoch 12/50: 100%|██████████| 53/53 [03:44<00:00,  4.23s/it]\n"
          ]
        },
        {
          "name": "stdout",
          "output_type": "stream",
          "text": [
            "Epoch 12/50 - Loss: 0.4973, Train Acc: 81.85%, Val Loss: 0.5339, Val Acc: 79.58%\n",
            "Validation loss did not improve. Patience count: 2/5\n"
          ]
        },
        {
          "name": "stderr",
          "output_type": "stream",
          "text": [
            "Epoch 13/50: 100%|██████████| 53/53 [04:11<00:00,  4.74s/it]\n"
          ]
        },
        {
          "name": "stdout",
          "output_type": "stream",
          "text": [
            "Epoch 13/50 - Loss: 0.3375, Train Acc: 87.50%, Val Loss: 0.4454, Val Acc: 81.46%\n",
            "Model saved to results/alexnet_trained.pth\n"
          ]
        },
        {
          "name": "stderr",
          "output_type": "stream",
          "text": [
            "Epoch 14/50: 100%|██████████| 53/53 [04:29<00:00,  5.09s/it]\n"
          ]
        },
        {
          "name": "stdout",
          "output_type": "stream",
          "text": [
            "Epoch 14/50 - Loss: 0.3584, Train Acc: 85.95%, Val Loss: 0.7351, Val Acc: 75.42%\n",
            "Validation loss did not improve. Patience count: 1/5\n"
          ]
        },
        {
          "name": "stderr",
          "output_type": "stream",
          "text": [
            "Epoch 15/50: 100%|██████████| 53/53 [04:33<00:00,  5.17s/it]\n"
          ]
        },
        {
          "name": "stdout",
          "output_type": "stream",
          "text": [
            "Epoch 15/50 - Loss: 0.3217, Train Acc: 87.56%, Val Loss: 0.4063, Val Acc: 85.62%\n",
            "Model saved to results/alexnet_trained.pth\n"
          ]
        },
        {
          "name": "stderr",
          "output_type": "stream",
          "text": [
            "Epoch 16/50: 100%|██████████| 53/53 [04:23<00:00,  4.98s/it]\n"
          ]
        },
        {
          "name": "stdout",
          "output_type": "stream",
          "text": [
            "Epoch 16/50 - Loss: 0.3408, Train Acc: 88.33%, Val Loss: 0.5888, Val Acc: 80.42%\n",
            "Validation loss did not improve. Patience count: 1/5\n"
          ]
        },
        {
          "name": "stderr",
          "output_type": "stream",
          "text": [
            "Epoch 17/50: 100%|██████████| 53/53 [04:16<00:00,  4.85s/it]\n"
          ]
        },
        {
          "name": "stdout",
          "output_type": "stream",
          "text": [
            "Epoch 17/50 - Loss: 0.3500, Train Acc: 86.37%, Val Loss: 0.5308, Val Acc: 79.38%\n",
            "Validation loss did not improve. Patience count: 2/5\n"
          ]
        },
        {
          "name": "stderr",
          "output_type": "stream",
          "text": [
            "Epoch 18/50: 100%|██████████| 53/53 [04:22<00:00,  4.96s/it]\n"
          ]
        },
        {
          "name": "stdout",
          "output_type": "stream",
          "text": [
            "Epoch 18/50 - Loss: 0.3198, Train Acc: 89.46%, Val Loss: 0.4861, Val Acc: 84.38%\n",
            "Validation loss did not improve. Patience count: 3/5\n"
          ]
        },
        {
          "name": "stderr",
          "output_type": "stream",
          "text": [
            "Epoch 19/50: 100%|██████████| 53/53 [04:14<00:00,  4.80s/it]\n"
          ]
        },
        {
          "name": "stdout",
          "output_type": "stream",
          "text": [
            "Epoch 19/50 - Loss: 0.3239, Train Acc: 88.87%, Val Loss: 0.5575, Val Acc: 80.21%\n",
            "Validation loss did not improve. Patience count: 4/5\n"
          ]
        },
        {
          "name": "stderr",
          "output_type": "stream",
          "text": [
            "Epoch 20/50: 100%|██████████| 53/53 [04:15<00:00,  4.82s/it]\n"
          ]
        },
        {
          "name": "stdout",
          "output_type": "stream",
          "text": [
            "Epoch 20/50 - Loss: 0.2588, Train Acc: 91.31%, Val Loss: 0.4271, Val Acc: 84.58%\n",
            "Validation loss did not improve. Patience count: 5/5\n",
            "Early stopping triggered. Stopping training.\n",
            "Results saved to results/training_results.csv\n"
          ]
        },
        {
          "data": {
            "image/png": "[encoded data removed]",
            "text/plain": [
              "<Figure size 1200x500 with 2 Axes>"
            ]
          },
          "metadata": {},
          "output_type": "display_data"
        }
      ],
      "source": [
        "import os\n",
        "import pandas as pd\n",
        "import torch\n",
        "import matplotlib.pyplot as plt\n",
        "from torchvision import models\n",
        "from torch.utils.data import DataLoader\n",
        "from torchvision import datasets, transforms\n",
        "from torch import nn, optim\n",
        "from tqdm import tqdm\n",
        "\n",
        "def save_results(filename, results):\n",
        "    \"\"\"Save results (accuracy, loss, etc.) to a CSV file.\"\"\"\n",
        "    df = pd.DataFrame(results)\n",
        "    df.to_csv(filename, index=False)\n",
        "    print(f\"Results saved to {filename}\")\n",
        "\n",
        "def save_model(model, path):\n",
        "    \"\"\"Save trained model to a .pth file.\"\"\"\n",
        "    torch.save(model.state_dict(), path)\n",
        "    print(f\"Model saved to {path}\")\n",
        "\n",
        "def plot_training_results(results):\n",
        "    \"\"\"Plots training loss, training accuracy, and validation accuracy over epochs.\"\"\"\n",
        "    epochs = results[\"epoch\"]\n",
        "\n",
        "    plt.figure(figsize=(12, 5))\n",
        "\n",
        "    # Plot loss\n",
        "    plt.subplot(1, 2, 1)\n",
        "    plt.plot(epochs, results[\"train_loss\"], label=\"Train Loss\", marker='o', linestyle='-')\n",
        "    plt.xlabel(\"Epoch\")\n",
        "    plt.ylabel(\"Loss\")\n",
        "    plt.title(\"Training Loss Over Epochs\")\n",
        "    plt.legend()\n",
        "\n",
        "    # Plot accuracy\n",
        "    plt.subplot(1, 2, 2)\n",
        "    plt.plot(epochs, [acc * 100 for acc in results[\"train_acc\"]], label=\"Train Accuracy\", marker='o', linestyle='-')\n",
        "    plt.plot(epochs, [acc * 100 for acc in results[\"val_acc\"]], label=\"Validation Accuracy\", marker='o', linestyle='--')\n",
        "    plt.xlabel(\"Epoch\")\n",
        "    plt.ylabel(\"Accuracy (%)\")\n",
        "    plt.title(\"Train & Validation Accuracy Over Epochs\")\n",
        "    plt.legend()\n",
        "\n",
        "    plt.tight_layout()\n",
        "    plt.show()\n",
        "\n",
        "def train_alexnet_with_early_stopping(dataset_path, batch_size=32, num_epochs=50, learning_rate=0.001, patience=5, save_path=\"results\"):\n",
        "    \"\"\"Train AlexNet, save results, and generate a training graph with Early Stopping.\"\"\"\n",
        "\n",
        "    results_file = os.path.join(save_path, \"training_results.csv\")\n",
        "    model_file = os.path.join(save_path, \"alexnet_trained.pth\")\n",
        "\n",
        "    os.makedirs(save_path, exist_ok=True)\n",
        "\n",
        "    # Prepare dataset\n",
        "    train_loader, val_loader, test_loader = create_dataloaders(dataset_path, batch_size)\n",
        "    device = torch.device(\"cuda\" if torch.cuda.is_available() else \"cpu\")\n",
        "\n",
        "    # Load AlexNet without pre-trained weights\n",
        "    model = models.alexnet(pretrained=False)\n",
        "    num_classes = len(train_loader.dataset.dataset.classes)\n",
        "    model.classifier[6] = torch.nn.Linear(4096, num_classes)\n",
        "    model = model.to(device)\n",
        "\n",
        "    criterion = torch.nn.CrossEntropyLoss()\n",
        "    optimizer = torch.optim.Adam(model.parameters(), lr=learning_rate)\n",
        "\n",
        "    results = {\"epoch\": [], \"train_loss\": [], \"train_acc\": [], \"val_acc\": []}\n",
        "\n",
        "    best_val_loss = float(\"inf\")\n",
        "    patience_counter = 0\n",
        "\n",
        "    for epoch in range(num_epochs):\n",
        "        model.train()\n",
        "        running_loss, correct, total = 0, 0, 0\n",
        "\n",
        "        for inputs, labels in tqdm(train_loader, desc=f\"Epoch {epoch+1}/{num_epochs}\"):\n",
        "            inputs, labels = inputs.to(device), labels.to(device)\n",
        "            optimizer.zero_grad()\n",
        "            outputs = model(inputs)\n",
        "            loss = criterion(outputs, labels)\n",
        "            loss.backward()\n",
        "            optimizer.step()\n",
        "\n",
        "            running_loss += loss.item()\n",
        "            _, preds = torch.max(outputs, 1)\n",
        "            correct += (preds == labels).sum().item()\n",
        "            total += labels.size(0)\n",
        "\n",
        "        train_loss = running_loss / len(train_loader)\n",
        "        train_acc = correct / total\n",
        "\n",
        "        # Validation\n",
        "        model.eval()\n",
        "        val_loss, val_correct, val_total = 0, 0, 0\n",
        "        with torch.no_grad():\n",
        "            for val_inputs, val_labels in val_loader:\n",
        "                val_inputs, val_labels = val_inputs.to(device), val_labels.to(device)\n",
        "                val_outputs = model(val_inputs)\n",
        "                val_loss += criterion(val_outputs, val_labels).item()\n",
        "                _, val_preds = torch.max(val_outputs, 1)\n",
        "                val_correct += (val_preds == val_labels).sum().item()\n",
        "                val_total += val_labels.size(0)\n",
        "\n",
        "        val_loss /= len(val_loader)\n",
        "        val_acc = val_correct / val_total\n",
        "\n",
        "        # Save epoch results\n",
        "        results[\"epoch\"].append(epoch + 1)\n",
        "        results[\"train_loss\"].append(train_loss)\n",
        "        results[\"train_acc\"].append(train_acc)\n",
        "        results[\"val_acc\"].append(val_acc)\n",
        "\n",
        "        print(f\"Epoch {epoch+1}/{num_epochs} - Loss: {train_loss:.4f}, Train Acc: {train_acc*100:.2f}%, Val Loss: {val_loss:.4f}, Val Acc: {val_acc*100:.2f}%\")\n",
        "\n",
        "        # Check Early Stopping condition\n",
        "        if val_loss < best_val_loss:\n",
        "            best_val_loss = val_loss\n",
        "            patience_counter = 0\n",
        "            save_model(model, model_file)  # Save the best model\n",
        "        else:\n",
        "            patience_counter += 1\n",
        "            print(f\"Validation loss did not improve. Patience count: {patience_counter}/{patience}\")\n",
        "\n",
        "        if patience_counter >= patience:\n",
        "            print(\"Early stopping triggered. Stopping training.\")\n",
        "            break\n",
        "\n",
        "    # Save results and model\n",
        "    save_results(results_file, results)\n",
        "\n",
        "    # Plot the training results\n",
        "    plot_training_results(results)\n",
        "\n",
        "    return results_file, model_file\n",
        "\n",
        "# Run training with Early Stopping\n",
        "\n",
        "results_file, model_file = train_alexnet_with_early_stopping(dataset_path, num_epochs=50, patience=5)\n"
      ]
    },
    {
      "cell_type": "markdown",
      "source": [
        "### Analysis of Training Results\n",
        "\n",
        "The provided graphs illustrate the **training loss** and the **train-validation accuracy** trends over 20 epochs.\n",
        "\n",
        "\n",
        "### 1. Training Loss Over Epochs (Left Graph)\n",
        "\n",
        "- The training loss shows a **consistent and steady decrease** across epochs, starting from around **2.0** and dropping to approximately **0.25** by the 20th epoch.  \n",
        "- The sharp decline in the initial epochs indicates that the model quickly learned the basic patterns in the data.  \n",
        "- The gradual stabilization of the loss in later epochs suggests that the model has reached a point of **convergence**, where further training yields smaller improvements.  \n",
        "- Minor fluctuations in the later stages are expected but remain within a stable range, indicating good training behavior.\n",
        "\n",
        "\n",
        "### 2. Training and Validation Accuracy Over Epochs (Right Graph)\n",
        "\n",
        "- Both training and validation accuracy show a **significant improvement** during the early epochs, demonstrating that the model effectively learned from the data.  \n",
        "- Training accuracy continues to improve steadily, eventually exceeding **90%**, while validation accuracy stabilizes around **80-85%**.  \n",
        "- The gap between training and validation accuracy suggests a **slight overfitting**, as the model performs better on the training data compared to the validation set. However, the gap is not excessive, indicating that the model still generalizes reasonably well.  \n",
        "- The fluctuations in validation accuracy are normal and could be influenced by variations in the validation data or the complexity of the task.\n",
        "\n",
        "\n",
        "Overall, these results demonstrate that the training process was effective, with the model showing good learning capability and reasonable generalization to unseen data.\n"
      ],
      "metadata": {
        "id": "PbEBHDKrEmXe"
      }
    }
  ],
  "metadata": {
    "colab": {
      "provenance": [],
      "include_colab_link": true
    },
    "kernelspec": {
      "display_name": "Python 3",
      "name": "python3"
    },
    "language_info": {
      "name": "python"
    }
  },
  "nbformat": 4,
  "nbformat_minor": 0
}